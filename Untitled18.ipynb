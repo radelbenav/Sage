{
 "cells": [
  {
   "cell_type": "code",
   "execution_count": 138,
   "metadata": {},
   "outputs": [
    {
     "name": "stdout",
     "output_type": "stream",
     "text": [
      "4\n"
     ]
    }
   ],
   "source": [
    "K.<z>=CyclotomicField(5)\n",
    "def are_different(*arg):\n",
    "    for i in range(len(arg)):\n",
    "        for j in range(i+1,len(arg)):\n",
    "            if arg[i]==arg[j]:\n",
    "                return False\n",
    "    return True\n",
    "\n",
    "S0=[1+z^i-z^j-z^k for i,j,k in mrange([5,5,5]) if are_different(0,i) and are_different(j,k)]\n",
    "S0=Set(S0)\n",
    "S1=[1+z^i+z^j-z^k-z^l for i,j,k,l in mrange([5,5,5,5]) if are_different(0,i) and are_different(j,k,l)]\n",
    "S1=Set(S1)\n",
    "\n",
    "S2=[1+z^i+z^j-z^k for i,j,k in mrange([5,5,5]) if are_different(0,i,j)]\n",
    "S2=Set(S2)\n",
    "\n",
    "S3=[1+z^i+z^j+z^k-z^l for i,j,k,l in mrange([5,5,5,5]) if are_different(0,i,j,k)]\n",
    "S3=Set(S3)\n",
    "\n",
    "S4=[1+z^i+z^j+z^k for i,j,k in mrange([5,5,5]) if are_different(0,i,j,k)]\n",
    "S4=Set(S4)\n",
    "print(len(S4))\n",
    "\n",
    "O0=[z]\n",
    "O=[z^j for j in range(5)]\n",
    "O=O+[-y for y in O]\n",
    "\n",
    "Op=[z^j for j in range(5)]\n",
    "\n",
    "S1=Set([o*s for o in Op for s in S1])\n",
    "S2=Set([o*s for o in Op for s in S2])\n",
    "S0=Set([o*s for o in Op for s in S0])\n",
    "S3=Set([o*s for o in Op for s in S3])\n",
    "S4=Set([o*s for o in Op for s in S4])\n",
    "S5=Set([0])\n"
   ]
  },
  {
   "cell_type": "code",
   "execution_count": 79,
   "metadata": {},
   "outputs": [
    {
     "data": {
      "text/plain": [
       "729000000"
      ]
     },
     "execution_count": 79,
     "metadata": {},
     "output_type": "execute_result"
    }
   ],
   "source": []
  },
  {
   "cell_type": "code",
   "execution_count": 153,
   "metadata": {},
   "outputs": [],
   "source": [
    "def typ(a,galois=False):\n",
    "    if galois:\n",
    "        b=[c*o for c in a.galois_conjugates(K) for o in Op]\n",
    "        b.sort(key=hash)\n",
    "        return b[0]\n",
    "    \n",
    "    b=[a*o for o in Op]\n",
    "    b.sort(key=hash)\n",
    "    return b[0]\n",
    "\n",
    "\n",
    "def nirmul_old(ty,galois=False):\n",
    "    typs={}\n",
    "    for a in ty:\n",
    "        typs[typ(a,galois=galois)]=a\n",
    "    return list(typs.values())\n",
    "\n",
    "def nirmul(ty,galois=False):\n",
    "    N=[]\n",
    "    for a in ty:\n",
    "        ta=typ(a,galois=galois)\n",
    "        if not(ta in N):\n",
    "            N.append(ta)\n",
    "    return N\n",
    "\n",
    "def is_ordered(L):\n",
    "    return L==sorted(L)\n",
    "\n",
    "def first_rows(sums):\n",
    "    S=[S0,S1,S2,S3,S4,S5]\n",
    "    N=[nirmul(S[sums[0]],galois=True)]+[nirmul(S[sums[i]]) for i in range(1,len(sums))]\n",
    "    lN=list(map(len,N))\n",
    "    print(lN)\n",
    "    Tn=[]\n",
    "    l=0\n",
    "    for I in xmrange(lN):\n",
    "        if is_ordered(I[2:6]):\n",
    "            if sum([N[i][I[i]]*N[i][I[i]].conjugate() for i in range(len(sums))])==25:\n",
    "                Tn.append([N[i][I[i]] for i in range(len(sums))])\n",
    "                #print('True')\n",
    "                #break\n",
    "    return Tn"
   ]
  },
  {
   "cell_type": "code",
   "execution_count": 154,
   "metadata": {},
   "outputs": [
    {
     "name": "stdout",
     "output_type": "stream",
     "text": [
      "[4, 11, 6, 6, 6, 6, 3]\n"
     ]
    },
    {
     "data": {
      "text/plain": [
       "429"
      ]
     },
     "execution_count": 154,
     "metadata": {},
     "output_type": "execute_result"
    }
   ],
   "source": [
    "fr=first_rows([0,0,2,2,2,2,3])\n",
    "len(fr)"
   ]
  },
  {
   "cell_type": "code",
   "execution_count": 164,
   "metadata": {},
   "outputs": [
    {
     "data": {
      "text/plain": [
       "[25  0  0  0  0]\n",
       "[ 0 25  0  0  0]\n",
       "[ 0  0 25  0  0]\n",
       "[ 0  0  0 25  0]\n",
       "[ 0  0  0  0 25]"
      ]
     },
     "execution_count": 164,
     "metadata": {},
     "output_type": "execute_result"
    }
   ],
   "source": [
    "load('/home/sage/Dropbox/AGYGDS/Assaf/circulantw.sage')\n",
    "s=[0,0,2,2,2,2,3]\n",
    "G=0\n",
    "for i in range(7):\n",
    "    P=crt([fr[0][i].polynomial(),s[i]],[x^4+x^3+x^2+x+1,x-1])\n",
    "    v=P.coefficients(sparse=False)\n",
    "    if i>0:\n",
    "        M=circ(v)\n",
    "        G+=M*M.transpose()\n",
    "G\n",
    "    "
   ]
  },
  {
   "cell_type": "code",
   "execution_count": 94,
   "metadata": {},
   "outputs": [
    {
     "data": {
      "text/plain": [
       "2*z^3 + 2*z^2 + 2*z + 1"
      ]
     },
     "execution_count": 94,
     "metadata": {},
     "output_type": "execute_result"
    }
   ],
   "source": [
    "K.<z>=CyclotomicField(5)\n",
    "-z^4+z^3+z^2+z"
   ]
  },
  {
   "cell_type": "code",
   "execution_count": 103,
   "metadata": {},
   "outputs": [
    {
     "data": {
      "text/plain": [
       "-x^4 + x^3 + x^2 + x"
      ]
     },
     "execution_count": 103,
     "metadata": {},
     "output_type": "execute_result"
    }
   ],
   "source": [
    "R=QQ['x']\n",
    "x=R.0\n",
    "w=S2[19]\n",
    "crt([R(w.polynomial()),2],[x^4+x^3+x^2+x+1,x-1])"
   ]
  },
  {
   "cell_type": "code",
   "execution_count": 71,
   "metadata": {},
   "outputs": [
    {
     "name": "stdout",
     "output_type": "stream",
     "text": [
      "[0, 1, 2, 3, 4, 5, 6, 7, 8, 9, 10, 11, 12, 13, 14, 15, 16, 17, 18, 19, 20, 21, 22, 23, 24, 25, 26, 27, 28, 29, 30, 31, 32, 33, 34, 35, 36, 37, 38, 39, 40, 41, 42]\n"
     ]
    }
   ],
   "source": [
    "def find_row(s,M):\n",
    "    for r in M.rows():\n",
    "        rl=r.list()\n",
    "        rla=list(map(abs,rl))\n",
    "        rla.sort()\n",
    "        return rla==s\n",
    "    return False\n",
    "\n",
    "bad=[]\n",
    "s=[1,2,2,2,2,2,2]\n",
    "for i in range(44):\n",
    "    if find_row(s,W44[i]) and not(i in bad):\n",
    "        bad.append(i)\n",
    "    if find_row(s,W44[i].transpose()) and not(i in bad):\n",
    "        bad.append(i)\n",
    "s=[0,0,2,2,2,2,3]\n",
    "for i in range(44):\n",
    "    if find_row(s,W44[i]) and not(i in bad):\n",
    "        bad.append(i)\n",
    "    if find_row(s,W44[i].transpose()) and not(i in bad):\n",
    "        bad.append(i)\n",
    "        \n",
    "s=[0,1,1,1,2,3,3]\n",
    "for i in range(44):\n",
    "    if find_row(s,W44[i]) and not(i in bad):\n",
    "        bad.append(i)\n",
    "    if find_row(s,W44[i].transpose()) and not(i in bad):\n",
    "        bad.append(i)\n",
    "        \n",
    "s=[0,0,0,1,2,2,4]\n",
    "for i in range(44):\n",
    "    if find_row(s,W44[i]) and not(i in bad):\n",
    "        bad.append(i)\n",
    "    if find_row(s,W44[i].transpose()) and not(i in bad):\n",
    "        bad.append(i)\n",
    "        \n",
    "s=[0,0,0,0,0,3,4]\n",
    "for i in range(44):\n",
    "    if find_row(s,W44[i]) and not(i in bad):\n",
    "        bad.append(i)\n",
    "    if find_row(s,W44[i].transpose()) and not(i in bad):\n",
    "        bad.append(i)\n",
    "print(bad)"
   ]
  },
  {
   "cell_type": "code",
   "execution_count": 72,
   "metadata": {},
   "outputs": [
    {
     "data": {
      "text/plain": [
       "[5 0 0 0 0 0 0]\n",
       "[0 5 0 0 0 0 0]\n",
       "[0 0 5 0 0 0 0]\n",
       "[0 0 0 5 0 0 0]\n",
       "[0 0 0 0 5 0 0]\n",
       "[0 0 0 0 0 5 0]\n",
       "[0 0 0 0 0 0 5]"
      ]
     },
     "execution_count": 72,
     "metadata": {},
     "output_type": "execute_result"
    }
   ],
   "source": [
    "W44[43]"
   ]
  },
  {
   "cell_type": "code",
   "execution_count": 47,
   "metadata": {},
   "outputs": [],
   "source": [
    "W44=load('/home/sage/Dropbox/AGYGDS/Radi/Sage/44mat7.sobj')"
   ]
  },
  {
   "cell_type": "code",
   "execution_count": 49,
   "metadata": {},
   "outputs": [
    {
     "data": {
      "text/plain": [
       "[\n",
       "[ 2  2  2  2  2  2  1]  [ 2  2  2  2  2  2  1]  [ 2  2  2  2  2  2  1]\n",
       "[ 2  2  2 -2 -2 -1 -2]  [ 2  2  2 -2 -2 -1 -2]  [ 3  2 -2 -2  0  0 -2]\n",
       "[ 2 -2 -1  2 -2  2 -2]  [ 3 -2 -2  0  0  2 -2]  [ 2 -3 -2  0  2  0  2]\n",
       "[ 1  2 -2  2 -2 -2  2]  [ 2 -3  2  0  0 -2  2]  [ 2 -2  3  0  0 -2 -2]\n",
       "[ 2 -3  2  0  0 -2  2]  [ 2  2 -3  0  0 -2  2]  [ 2  0  0  1 -4  0  2]\n",
       "[ 2  0 -2 -3  0  2  2]  [ 0  0  0  4 -1 -2 -2]  [ 0  2  0  0  1 -4  2]\n",
       "[ 2  0 -2  0  3 -2 -2], [ 0  0  0  1 -4  2  2], [ 0  0  2 -4  0  1  2],\n",
       "\n",
       "[ 2  2  2  2  2  2  1]  [ 2  2  2  2  2  2  1]  [ 2  2  2  2  2  2  1]\n",
       "[ 3 -3  1  1 -1  0 -2]  [ 3 -3  1  1 -1  0 -2]  [ 3 -3  1  1 -1  0 -2]\n",
       "[ 3  1 -3  0 -1 -1  2]  [ 3  1 -1 -1  0 -3  2]  [ 3  0 -3 -1  1 -1  2]\n",
       "[ 1  1 -1 -3  0  3 -2]  [ 1  0 -1 -1 -3  3  2]  [ 1  3  0  1 -1 -3 -2]\n",
       "[ 1  1  0 -1  3 -3 -2]  [ 0  3  1  1 -3 -1 -2]  [ 0  1 -3  1 -1  3 -2]\n",
       "[ 1  0  3 -3 -1 -1  2]  [ 1  1 -4  1  1  1 -2]  [ 1  1  1 -4  1  1 -2]\n",
       "[ 0  3  1  1 -3 -1 -2], [ 1  1  1 -4  1  1 -2], [ 1  1  1 -1 -4  1  2],\n",
       "\n",
       "[ 2  2  2  2  2  2  1]  [ 2  2  2  2  2  2  1]  [ 3  2  2  2  2  0  0]\n",
       "[ 4  1 -1 -1 -1 -1 -2]  [ 4 -1 -1 -1 -1 -1  2]  [ 2  3 -2 -2 -2  0  0]\n",
       "[ 1 -4  1  1  1  1 -2]  [ 1 -4  1  1  1  1 -2]  [ 2 -2  3 -2 -2  0  0]\n",
       "[ 1 -1 -4  1  1  1  2]  [ 1  1 -4  1  1  1 -2]  [ 2 -2 -2  3 -2  0  0]\n",
       "[ 1 -1  1 -4  1  1  2]  [ 1  1  1 -4  1  1 -2]  [ 2 -2 -2 -2  3  0  0]\n",
       "[ 1 -1  1  1 -4  1  2]  [ 1  1  1  1 -4  1 -2]  [ 0  0  0  0  0  4  3]\n",
       "[ 1 -1  1  1  1 -4  2], [ 1  1  1  1  1 -4 -2], [ 0  0  0  0  0  3 -4],\n",
       "\n",
       "[ 3  2  2  2  2  0  0]  [ 3  2  2  2  2  0  0]  [ 3  2  2  2  2  0  0]\n",
       "[ 2  3 -2 -2 -2  0  0]  [ 2  3 -2 -2 -2  0  0]  [ 2 -3  2 -2  0  2  0]\n",
       "[ 2 -2  3 -2 -2  0  0]  [ 2 -2 -3  2  0  2  0]  [ 2 -2 -3  0  2 -2  0]\n",
       "[ 2 -2 -2  3 -2  0  0]  [ 2 -2  2 -3  0  2  0]  [ 2  2  0 -3 -2 -2  0]\n",
       "[ 2 -2 -2 -2  3  0  0]  [ 2 -2  0  0 -1 -4  0]  [ 2  0 -2  2 -3  2  0]\n",
       "[ 0  0  0  0  0  5  0]  [ 0  0  2  2 -4  1  0]  [ 0  2 -2 -2  2  3  0]\n",
       "[ 0  0  0  0  0  0  5], [ 0  0  0  0  0  0  5], [ 0  0  0  0  0  0  5],\n",
       "\n",
       "[ 3  2  2  2  2  0  0]  [ 3  2  2  2  2  0  0]  [ 3  2  2  2  2  0  0]\n",
       "[ 2 -3  2 -2  0  2  0]  [ 0  2  2 -2 -2  3  0]  [ 2 -3  1 -1  0  3  1]\n",
       "[ 2 -2 -1  0  0 -4  0]  [ 2 -4  1  0  0  2  0]  [ 2 -1  1  0 -3 -3  1]\n",
       "[ 2  2  0 -1 -4  0  0]  [ 2  1 -4  0  0  2  0]  [ 2  0 -1 -3  1 -1 -3]\n",
       "[ 2  0 -4  0  1  2  0]  [ 2  0  0 -4  1 -2  0]  [ 0  3  1 -3 -1  1  2]\n",
       "[ 0  2  0 -4  2 -1  0]  [ 2  0  0  1 -4 -2  0]  [ 0  1  1  1 -3  2 -3]\n",
       "[ 0  0  0  0  0  0  5], [ 0  0  0  0  0  0  5], [ 2  1 -4  1 -1  1  1],\n",
       "\n",
       "[ 3  2  2  2  2  0  0]  [ 3  2  2  2  2  0  0]  [ 3  2  2  2  2  0  0]\n",
       "[ 2 -3  1 -1  0  3  1]  [ 2 -3  1 -1  0  3  1]  [ 2 -3  1 -1  0  3  1]\n",
       "[ 2  1 -1  0 -3  1 -3]  [ 2  1 -1  0 -3  1 -3]  [ 2 -1 -1  0 -1 -3  3]\n",
       "[ 2 -1  0 -3  1 -3 -1]  [ 2 -1  0 -3  1 -3 -1]  [ 2  0  1 -1 -3 -1 -3]\n",
       "[ 2  0 -3  1 -1 -1  3]  [ 2  0 -3  1 -1 -1  3]  [ 0  3  1 -3 -1  1  2]\n",
       "[ 0  3 -1 -3  1  2  1]  [ 0  3  1 -3 -1  1  2]  [ 0  1 -1  3 -3  2  1]\n",
       "[ 0  1  3 -1 -3 -1  2], [ 0  1 -3 -1  3  2 -1], [ 2  1 -4 -1  1  1 -1],\n",
       "\n",
       "[ 3  2  2  2  2  0  0]  [ 3  2  2  2  2  0  0]  [ 3  2  2  2  2  0  0]\n",
       "[ 2 -1 -1 -1  0  3  3]  [ 2 -4  2 -1  0  0  0]  [ 2 -4  2 -1  0  0  0]\n",
       "[ 0  1  1  1 -3  3 -2]  [ 2  2  0 -4 -1  0  0]  [ 2  2  0 -4 -1  0  0]\n",
       "[ 0  1  1  1 -3 -2  3]  [ 2 -1 -4  0  2  0  0]  [ 2 -1 -4  0  2  0  0]\n",
       "[ 2 -4  1  1 -1 -1 -1]  [ 2  0 -1  2 -4  0  0]  [ 2  0 -1  2 -4  0  0]\n",
       "[ 2  1 -4  1 -1 -1 -1]  [ 0  0  0  0  0  4  3]  [ 0  0  0  0  0  5  0]\n",
       "[ 2  1  1 -4 -1 -1 -1], [ 0  0  0  0  0  3 -4], [ 0  0  0  0  0  0  5],\n",
       "\n",
       "[ 3  2  2  2  2  0  0]  [ 3  3  2  1  1  1  0]  [ 3  3  2  1  1  1  0]\n",
       "[ 2 -4  1  0  0  2  0]  [ 3 -3  1 -2  1 -1  0]  [ 3 -3  1 -2  1 -1  0]\n",
       "[ 2  1  0 -4  0  0  2]  [ 2  1 -3  1 -1 -3  0]  [ 2  1 -3  1 -1 -3  0]\n",
       "[ 2  0 -4  0  1  0 -2]  [ 1 -2  1  3 -3  1  0]  [ 1  0 -3 -1  1  3  2]\n",
       "[ 2  0  0  1 -4 -2  0]  [ 1 -1 -3  1  2  3  0]  [ 1 -1  1  1 -4  1  2]\n",
       "[ 0  2  0  0 -2  4 -1]  [ 1  1 -1 -3 -3  2  0]  [ 1 -1 -1  1 -1  2 -4]\n",
       "[ 0  0  2 -2  0 -1 -4], [ 0  0  0  0  0  0  5], [ 0  2  0 -4 -2  0 -1],\n",
       "\n",
       "[ 3  3  2  1  1  1  0]  [ 3  3  2  1  1  1  0]  [ 3  3  2  1  1  1  0]\n",
       "[ 3 -3  1 -2  1 -1  0]  [ 3 -3  1 -1 -1  0  2]  [ 3 -3  1 -1 -1  0  2]\n",
       "[ 2 -1 -3  1 -1  3  0]  [ 1  2 -1 -3 -1 -3  0]  [ 1  1 -1 -3  2 -3  0]\n",
       "[ 1  2 -1 -3 -3 -1  0]  [ 1 -1 -1  2  3 -3  0]  [ 1  1 -1  2 -3 -3  0]\n",
       "[ 1  1 -3  1  2 -3  0]  [ 0  1 -1  3 -3 -1  2]  [ 0  1  1 -3 -3  1 -2]\n",
       "[ 1 -1  1  3 -3 -2  0]  [ 1 -1  1  1 -2 -1 -4]  [ 1 -2  1  1  1 -1 -4]\n",
       "[ 0  0  0  0  0  0  5], [ 2  0 -4  0  0  2 -1], [ 2  0 -4  0  0  2 -1],\n",
       "\n",
       "[ 3  3  2  1  1  1  0]  [ 3  3  2  1  1  1  0]  [ 3  3  2  1  1  1  0]\n",
       "[ 3 -2 -3  1  1  1  0]  [ 3 -2 -3  1  1  1  0]  [ 3 -2 -3  1  1  1  0]\n",
       "[ 2 -3  3 -1 -1 -1  0]  [ 2 -3  3 -1 -1 -1  0]  [ 2  1 -1 -3 -3 -1  0]\n",
       "[ 1  1 -1 -3 -3  2  0]  [ 1  1 -1 -4  1 -1  2]  [ 1 -3  3 -1 -1  2  0]\n",
       "[ 1  1 -1 -3  2 -3  0]  [ 1  1 -1  1 -4 -1  2]  [ 1 -1  1  3 -2 -3  0]\n",
       "[ 1  1 -1  2 -3 -3  0]  [ 1  1 -1 -1 -1 -2 -4]  [ 1 -1  1 -2  3 -3  0]\n",
       "[ 0  0  0  0  0  0  5], [ 0  0  0  2  2 -4  1], [ 0  0  0  0  0  0  5],\n",
       "\n",
       "[ 3  3  2  1  1  1  0]  [ 3  3  2  1  1  1  0]  [ 3  3  2  1  1  1  0]\n",
       "[ 3 -2  1 -3 -1 -1  0]  [ 3 -2  0 -3  1 -1  1]  [ 3 -1 -1 -3 -2  1  0]\n",
       "[ 2 -1 -3  1  3 -1  0]  [ 1 -3  0  2  1  3 -1]  [ 2 -1 -3  1  3 -1  0]\n",
       "[ 1 -3  1  3 -1  2  0]  [ 1 -1  0  3 -1 -2  3]  [ 1 -3  1  3 -1  2  0]\n",
       "[ 1  1 -3 -1 -2  3  0]  [ 0  1 -2 -1 -1  3  3]  [ 1 -2  3 -1  1 -3  0]\n",
       "[ 1  1 -1  2 -3 -3  0]  [ 1  1 -4  1  2 -1 -1]  [ 1  1 -1  2 -3 -3  0]\n",
       "[ 0  0  0  0  0  0  5], [ 2  0 -1  0 -4  0 -2], [ 0  0  0  0  0  0  5],\n",
       "\n",
       "[ 4  2  2  1  0  0  0]  [ 4  2  2  1  0  0  0]  [ 4  2  2  1  0  0  0]\n",
       "[ 2 -4  1 -2  0  0  0]  [ 2 -4  1 -2  0  0  0]  [ 2 -4  1 -2  0  0  0]\n",
       "[ 2  1 -4 -2  0  0  0]  [ 2  1 -4 -2  0  0  0]  [ 2 -1 -4  2  0  0  0]\n",
       "[ 1 -2 -2  4  0  0  0]  [ 1 -2 -2  4  0  0  0]  [ 1  2 -2 -4  0  0  0]\n",
       "[ 0  0  0  0  4  3  0]  [ 0  0  0  0  5  0  0]  [ 0  0  0  0  4  3  0]\n",
       "[ 0  0  0  0  3 -4  0]  [ 0  0  0  0  0  5  0]  [ 0  0  0  0  3 -4  0]\n",
       "[ 0  0  0  0  0  0  5], [ 0  0  0  0  0  0  5], [ 0  0  0  0  0  0  5],\n",
       "\n",
       "[ 4  2  2  1  0  0  0]  [ 4  2  2  1  0  0  0]  [ 4  2  2  1  0  0  0]\n",
       "[ 2 -4  1 -2  0  0  0]  [ 2 -4  1 -2  0  0  0]  [ 2 -4  1 -2  0  0  0]\n",
       "[ 2 -1 -4  2  0  0  0]  [ 2  0 -4  0  2  1  0]  [ 2  0 -4  0  2  1  0]\n",
       "[ 1  2 -2 -4  0  0  0]  [ 1  0 -2  0 -4 -2  0]  [ 1  0 -2  0 -4 -2  0]\n",
       "[ 0  0  0  0  5  0  0]  [ 0  2  0 -4  1 -2  0]  [ 0  2  0 -4 -1  2  0]\n",
       "[ 0  0  0  0  0  5  0]  [ 0  1  0 -2 -2  4  0]  [ 0  1  0 -2  2 -4  0]\n",
       "[ 0  0  0  0  0  0  5], [ 0  0  0  0  0  0  5], [ 0  0  0  0  0  0  5],\n",
       "\n",
       "[ 4  2  2  1  0  0  0]  [ 4  3  0  0  0  0  0]  [ 4  3  0  0  0  0  0]\n",
       "[ 2 -4  0  0  2  1  0]  [ 3 -4  0  0  0  0  0]  [ 3 -4  0  0  0  0  0]\n",
       "[ 2  0 -4  0 -1 -2  0]  [ 0  0  4  3  0  0  0]  [ 0  0  4  3  0  0  0]\n",
       "[ 1  0  0 -4 -2  2  0]  [ 0  0  3 -4  0  0  0]  [ 0  0  3 -4  0  0  0]\n",
       "[ 0  2 -1 -2  4  0  0]  [ 0  0  0  0  4  3  0]  [ 0  0  0  0  5  0  0]\n",
       "[ 0  1 -2  2  0  4  0]  [ 0  0  0  0  3 -4  0]  [ 0  0  0  0  0  5  0]\n",
       "[ 0  0  0  0  0  0  5], [ 0  0  0  0  0  0  5], [ 0  0  0  0  0  0  5],\n",
       "\n",
       "[ 4  3  0  0  0  0  0]  [5 0 0 0 0 0 0]\n",
       "[ 3 -4  0  0  0  0  0]  [0 5 0 0 0 0 0]\n",
       "[ 0  0  5  0  0  0  0]  [0 0 5 0 0 0 0]\n",
       "[ 0  0  0  5  0  0  0]  [0 0 0 5 0 0 0]\n",
       "[ 0  0  0  0  5  0  0]  [0 0 0 0 5 0 0]\n",
       "[ 0  0  0  0  0  5  0]  [0 0 0 0 0 5 0]\n",
       "[ 0  0  0  0  0  0  5], [0 0 0 0 0 0 5]\n",
       "]"
      ]
     },
     "execution_count": 49,
     "metadata": {},
     "output_type": "execute_result"
    }
   ],
   "source": [
    "def "
   ]
  },
  {
   "cell_type": "code",
   "execution_count": 116,
   "metadata": {},
   "outputs": [],
   "source": [
    "load('/home/sage/Dropbox/AGYGDS/Assaf/maagarim.sage')"
   ]
  },
  {
   "cell_type": "code",
   "execution_count": 119,
   "metadata": {},
   "outputs": [
    {
     "data": {
      "text/plain": [
       "[[[2, 4], [0, 1]], [[3, 1], [[2, 1], [[1, 3]]]], [[4, 1], [0, 4]]]"
      ]
     },
     "execution_count": 119,
     "metadata": {},
     "output_type": "execute_result"
    }
   ],
   "source": [
    "sorsm(16,5)"
   ]
  },
  {
   "cell_type": "code",
   "execution_count": null,
   "metadata": {},
   "outputs": [],
   "source": []
  }
 ],
 "metadata": {
  "kernelspec": {
   "display_name": "SageMath 9.0",
   "language": "sage",
   "name": "sagemath"
  },
  "language_info": {
   "codemirror_mode": {
    "name": "ipython",
    "version": 3
   },
   "file_extension": ".py",
   "mimetype": "text/x-python",
   "name": "python",
   "nbconvert_exporter": "python",
   "pygments_lexer": "ipython3",
   "version": "3.7.3"
  }
 },
 "nbformat": 4,
 "nbformat_minor": 2
}
