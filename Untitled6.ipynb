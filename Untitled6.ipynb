{
 "cells": [
  {
   "cell_type": "code",
   "execution_count": 15,
   "metadata": {},
   "outputs": [
    {
     "name": "stdout",
     "output_type": "stream",
     "text": [
      "[ 2  2  2  2  2  2  1]\n",
      "[ 2  2  2 -2 -2 -1 -2]\n",
      "[ 3 -2 -2  0  0  2 -2]\n",
      "[ 2 -3  2  0  0 -2  2]\n",
      "[ 2  2 -3  0  0 -2  2]\n",
      "[ 0  0  0  4 -1 -2 -2]\n",
      "[ 0  0  0  1 -4  2  2]\n",
      "3912051 (1771561, 161051, 14641, 1331, 121, 11, 1) (3912051, 3832191, 3838241, 3221065, 3221005, 3408429, 1423061)\n"
     ]
    }
   ],
   "source": [
    "res = load(\"44mat7.sobj\")\n",
    "AboveMat=matrix(7,7,res[1])\n",
    "print(AboveMat)\n",
    "codeBase=11\n",
    "nR=7\n",
    "cB=vector([codeBase^(nR-j-1) for j in range(nR)])\n"
   ]
  },
  {
   "cell_type": "code",
   "execution_count": null,
   "metadata": {},
   "outputs": [],
   "source": []
  }
 ],
 "metadata": {
  "kernelspec": {
   "display_name": "SageMath 9.2",
   "language": "sage",
   "name": "sagemath"
  },
  "language_info": {
   "codemirror_mode": {
    "name": "ipython",
    "version": 3
   },
   "file_extension": ".py",
   "mimetype": "text/x-python",
   "name": "python",
   "nbconvert_exporter": "python",
   "pygments_lexer": "ipython3",
   "version": "3.7.7"
  }
 },
 "nbformat": 4,
 "nbformat_minor": 4
}
