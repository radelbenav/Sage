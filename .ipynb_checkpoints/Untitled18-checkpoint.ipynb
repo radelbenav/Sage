{
 "cells": [
  {
   "cell_type": "code",
   "execution_count": 138,
   "metadata": {},
   "outputs": [
    {
     "name": "stdout",
     "output_type": "stream",
     "text": [
      "4\n"
     ]
    }
   ],
   "source": [
    "K.<z>=CyclotomicField(5)\n",
    "def are_different(*arg):\n",
    "    for i in range(len(arg)):\n",
    "        for j in range(i+1,len(arg)):\n",
    "            if arg[i]==arg[j]:\n",
    "                return False\n",
    "    return True\n",
    "\n",
    "S0=[1+z^i-z^j-z^k for i,j,k in mrange([5,5,5]) if are_different(0,i) and are_different(j,k)]\n",
    "S0=Set(S0)\n",
    "S1=[1+z^i+z^j-z^k-z^l for i,j,k,l in mrange([5,5,5,5]) if are_different(0,i) and are_different(j,k,l)]\n",
    "S1=Set(S1)\n",
    "\n",
    "S2=[1+z^i+z^j-z^k for i,j,k in mrange([5,5,5]) if are_different(0,i,j)]\n",
    "S2=Set(S2)\n",
    "\n",
    "S3=[1+z^i+z^j+z^k-z^l for i,j,k,l in mrange([5,5,5,5]) if are_different(0,i,j,k)]\n",
    "S3=Set(S3)\n",
    "\n",
    "S4=[1+z^i+z^j+z^k for i,j,k in mrange([5,5,5]) if are_different(0,i,j,k)]\n",
    "S4=Set(S4)\n",
    "print(len(S4))\n",
    "\n",
    "O0=[z]\n",
    "O=[z^j for j in range(5)]\n",
    "O=O+[-y for y in O]\n",
    "\n",
    "Op=[z^j for j in range(5)]\n",
    "\n",
    "S1=Set([o*s for o in Op for s in S1])\n",
    "S2=Set([o*s for o in Op for s in S2])\n",
    "S0=Set([o*s for o in Op for s in S0])\n",
    "S3=Set([o*s for o in Op for s in S3])\n",
    "S4=Set([o*s for o in Op for s in S4])\n",
    "S5=Set([0])\n"
   ]
  },
  {
   "cell_type": "code",
   "execution_count": 79,
   "metadata": {},
   "outputs": [
    {
     "data": {
      "text/plain": [
       "729000000"
      ]
     },
     "execution_count": 79,
     "metadata": {},
     "output_type": "execute_result"
    }
   ],
   "source": []
  },
  {
   "cell_type": "code",
   "execution_count": 140,
   "metadata": {},
   "outputs": [
    {
     "ename": "SyntaxError",
     "evalue": "invalid syntax (<ipython-input-140-2ae766b3e702>, line 32)",
     "output_type": "error",
     "traceback": [
      "\u001b[0;36m  File \u001b[0;32m\"<ipython-input-140-2ae766b3e702>\"\u001b[0;36m, line \u001b[0;32m32\u001b[0m\n\u001b[0;31m    lN=list(map(len,N))\u001b[0m\n\u001b[0m     ^\u001b[0m\n\u001b[0;31mSyntaxError\u001b[0m\u001b[0;31m:\u001b[0m invalid syntax\n"
     ]
    }
   ],
   "source": [
    "def typ(a,galois=False):\n",
    "    if galois:\n",
    "        b=[c*o for c in a.galois_conjugates(K) for o in Op]\n",
    "        b.sort(key=hash)\n",
    "        return b[0]\n",
    "    \n",
    "    b=[a*o for o in Op]\n",
    "    b.sort(key=hash)\n",
    "    return b[0]\n",
    "\n",
    "\n",
    "def nirmul_old(ty,galois=False):\n",
    "    typs={}\n",
    "    for a in ty:\n",
    "        typs[typ(a,galois=galois)]=a\n",
    "    return list(typs.values())\n",
    "\n",
    "def nirmul(ty,galois=False):\n",
    "    N=[]\n",
    "    for a in ty:\n",
    "        ta=typ(a,galois=galois)\n",
    "        if not(ta in N):\n",
    "            N.append(ta)\n",
    "    return N\n",
    "\n",
    "def is_ordered(L):\n",
    "    return L==sorted(L)\n",
    "\n",
    "def first_rows(sums):\n",
    "    S=[S0,S1,S2,S3,S4,S5]\n",
    "    N=[nirmul(S[sums[0],galois=True])+[nirmul(S[sums[i]]) for i in range(1,len(sums))]\n",
    "    lN=list(map(len,N))\n",
    "    print(lN)\n",
    "    Tn=[]\n",
    "    l=0\n",
    "    for I in xmrange(lN):\n",
    "            if sum([N[i][I[i]]*N[i][I[i]].conjugate() for i in range(len(sums))])==16:\n",
    "                Tn.append([N[i][I[i]] for i in range(len(sums))])            \n",
    "    return Tn"
   ]
  },
  {
   "cell_type": "code",
   "execution_count": 141,
   "metadata": {},
   "outputs": [
    {
     "name": "stdout",
     "output_type": "stream",
     "text": [
      "[25, 25, 25, 6, 3]\n"
     ]
    },
    {
     "ename": "KeyboardInterrupt",
     "evalue": "",
     "output_type": "error",
     "traceback": [
      "\u001b[0;31m---------------------------------------------------------------------------\u001b[0m",
      "\u001b[0;31mKeyboardInterrupt\u001b[0m                         Traceback (most recent call last)",
      "\u001b[0;32m<ipython-input-141-796280482253>\u001b[0m in \u001b[0;36m<module>\u001b[0;34m()\u001b[0m\n\u001b[0;32m----> 1\u001b[0;31m \u001b[0mfr\u001b[0m\u001b[0;34m=\u001b[0m\u001b[0mfirst_rows\u001b[0m\u001b[0;34m(\u001b[0m\u001b[0;34m[\u001b[0m\u001b[0mInteger\u001b[0m\u001b[0;34m(\u001b[0m\u001b[0;36m1\u001b[0m\u001b[0;34m)\u001b[0m\u001b[0;34m,\u001b[0m\u001b[0mInteger\u001b[0m\u001b[0;34m(\u001b[0m\u001b[0;36m1\u001b[0m\u001b[0;34m)\u001b[0m\u001b[0;34m,\u001b[0m\u001b[0mInteger\u001b[0m\u001b[0;34m(\u001b[0m\u001b[0;36m1\u001b[0m\u001b[0;34m)\u001b[0m\u001b[0;34m,\u001b[0m\u001b[0mInteger\u001b[0m\u001b[0;34m(\u001b[0m\u001b[0;36m2\u001b[0m\u001b[0;34m)\u001b[0m\u001b[0;34m,\u001b[0m\u001b[0mInteger\u001b[0m\u001b[0;34m(\u001b[0m\u001b[0;36m3\u001b[0m\u001b[0;34m)\u001b[0m\u001b[0;34m]\u001b[0m\u001b[0;34m)\u001b[0m\u001b[0;34m\u001b[0m\u001b[0;34m\u001b[0m\u001b[0m\n\u001b[0m\u001b[1;32m      2\u001b[0m \u001b[0mfr\u001b[0m\u001b[0;34m\u001b[0m\u001b[0;34m\u001b[0m\u001b[0m\n",
      "\u001b[0;32m<ipython-input-135-29fc91dfc97a>\u001b[0m in \u001b[0;36mfirst_rows\u001b[0;34m(sums)\u001b[0m\n\u001b[1;32m     35\u001b[0m     \u001b[0ml\u001b[0m\u001b[0;34m=\u001b[0m\u001b[0mInteger\u001b[0m\u001b[0;34m(\u001b[0m\u001b[0;36m0\u001b[0m\u001b[0;34m)\u001b[0m\u001b[0;34m\u001b[0m\u001b[0;34m\u001b[0m\u001b[0m\n\u001b[1;32m     36\u001b[0m     \u001b[0;32mfor\u001b[0m \u001b[0mI\u001b[0m \u001b[0;32min\u001b[0m \u001b[0mxmrange\u001b[0m\u001b[0;34m(\u001b[0m\u001b[0mlN\u001b[0m\u001b[0;34m)\u001b[0m\u001b[0;34m:\u001b[0m\u001b[0;34m\u001b[0m\u001b[0;34m\u001b[0m\u001b[0m\n\u001b[0;32m---> 37\u001b[0;31m             \u001b[0;32mif\u001b[0m \u001b[0msum\u001b[0m\u001b[0;34m(\u001b[0m\u001b[0;34m[\u001b[0m\u001b[0mN\u001b[0m\u001b[0;34m[\u001b[0m\u001b[0mi\u001b[0m\u001b[0;34m]\u001b[0m\u001b[0;34m[\u001b[0m\u001b[0mI\u001b[0m\u001b[0;34m[\u001b[0m\u001b[0mi\u001b[0m\u001b[0;34m]\u001b[0m\u001b[0;34m]\u001b[0m\u001b[0;34m*\u001b[0m\u001b[0mN\u001b[0m\u001b[0;34m[\u001b[0m\u001b[0mi\u001b[0m\u001b[0;34m]\u001b[0m\u001b[0;34m[\u001b[0m\u001b[0mI\u001b[0m\u001b[0;34m[\u001b[0m\u001b[0mi\u001b[0m\u001b[0;34m]\u001b[0m\u001b[0;34m]\u001b[0m\u001b[0;34m.\u001b[0m\u001b[0mconjugate\u001b[0m\u001b[0;34m(\u001b[0m\u001b[0;34m)\u001b[0m \u001b[0;32mfor\u001b[0m \u001b[0mi\u001b[0m \u001b[0;32min\u001b[0m \u001b[0mrange\u001b[0m\u001b[0;34m(\u001b[0m\u001b[0mlen\u001b[0m\u001b[0;34m(\u001b[0m\u001b[0msums\u001b[0m\u001b[0;34m)\u001b[0m\u001b[0;34m)\u001b[0m\u001b[0;34m]\u001b[0m\u001b[0;34m)\u001b[0m\u001b[0;34m==\u001b[0m\u001b[0mInteger\u001b[0m\u001b[0;34m(\u001b[0m\u001b[0;36m16\u001b[0m\u001b[0;34m)\u001b[0m\u001b[0;34m:\u001b[0m\u001b[0;34m\u001b[0m\u001b[0;34m\u001b[0m\u001b[0m\n\u001b[0m\u001b[1;32m     38\u001b[0m                 \u001b[0mTn\u001b[0m\u001b[0;34m.\u001b[0m\u001b[0mappend\u001b[0m\u001b[0;34m(\u001b[0m\u001b[0;34m[\u001b[0m\u001b[0mN\u001b[0m\u001b[0;34m[\u001b[0m\u001b[0mi\u001b[0m\u001b[0;34m]\u001b[0m\u001b[0;34m[\u001b[0m\u001b[0mI\u001b[0m\u001b[0;34m[\u001b[0m\u001b[0mi\u001b[0m\u001b[0;34m]\u001b[0m\u001b[0;34m]\u001b[0m \u001b[0;32mfor\u001b[0m \u001b[0mi\u001b[0m \u001b[0;32min\u001b[0m \u001b[0mrange\u001b[0m\u001b[0;34m(\u001b[0m\u001b[0mlen\u001b[0m\u001b[0;34m(\u001b[0m\u001b[0msums\u001b[0m\u001b[0;34m)\u001b[0m\u001b[0;34m)\u001b[0m\u001b[0;34m]\u001b[0m\u001b[0;34m)\u001b[0m\u001b[0;34m\u001b[0m\u001b[0;34m\u001b[0m\u001b[0m\n\u001b[1;32m     39\u001b[0m     \u001b[0;32mreturn\u001b[0m \u001b[0mTn\u001b[0m\u001b[0;34m\u001b[0m\u001b[0;34m\u001b[0m\u001b[0m\n",
      "\u001b[0;32m<ipython-input-135-29fc91dfc97a>\u001b[0m in \u001b[0;36m<listcomp>\u001b[0;34m(.0)\u001b[0m\n\u001b[1;32m     35\u001b[0m     \u001b[0ml\u001b[0m\u001b[0;34m=\u001b[0m\u001b[0mInteger\u001b[0m\u001b[0;34m(\u001b[0m\u001b[0;36m0\u001b[0m\u001b[0;34m)\u001b[0m\u001b[0;34m\u001b[0m\u001b[0;34m\u001b[0m\u001b[0m\n\u001b[1;32m     36\u001b[0m     \u001b[0;32mfor\u001b[0m \u001b[0mI\u001b[0m \u001b[0;32min\u001b[0m \u001b[0mxmrange\u001b[0m\u001b[0;34m(\u001b[0m\u001b[0mlN\u001b[0m\u001b[0;34m)\u001b[0m\u001b[0;34m:\u001b[0m\u001b[0;34m\u001b[0m\u001b[0;34m\u001b[0m\u001b[0m\n\u001b[0;32m---> 37\u001b[0;31m             \u001b[0;32mif\u001b[0m \u001b[0msum\u001b[0m\u001b[0;34m(\u001b[0m\u001b[0;34m[\u001b[0m\u001b[0mN\u001b[0m\u001b[0;34m[\u001b[0m\u001b[0mi\u001b[0m\u001b[0;34m]\u001b[0m\u001b[0;34m[\u001b[0m\u001b[0mI\u001b[0m\u001b[0;34m[\u001b[0m\u001b[0mi\u001b[0m\u001b[0;34m]\u001b[0m\u001b[0;34m]\u001b[0m\u001b[0;34m*\u001b[0m\u001b[0mN\u001b[0m\u001b[0;34m[\u001b[0m\u001b[0mi\u001b[0m\u001b[0;34m]\u001b[0m\u001b[0;34m[\u001b[0m\u001b[0mI\u001b[0m\u001b[0;34m[\u001b[0m\u001b[0mi\u001b[0m\u001b[0;34m]\u001b[0m\u001b[0;34m]\u001b[0m\u001b[0;34m.\u001b[0m\u001b[0mconjugate\u001b[0m\u001b[0;34m(\u001b[0m\u001b[0;34m)\u001b[0m \u001b[0;32mfor\u001b[0m \u001b[0mi\u001b[0m \u001b[0;32min\u001b[0m \u001b[0mrange\u001b[0m\u001b[0;34m(\u001b[0m\u001b[0mlen\u001b[0m\u001b[0;34m(\u001b[0m\u001b[0msums\u001b[0m\u001b[0;34m)\u001b[0m\u001b[0;34m)\u001b[0m\u001b[0;34m]\u001b[0m\u001b[0;34m)\u001b[0m\u001b[0;34m==\u001b[0m\u001b[0mInteger\u001b[0m\u001b[0;34m(\u001b[0m\u001b[0;36m16\u001b[0m\u001b[0;34m)\u001b[0m\u001b[0;34m:\u001b[0m\u001b[0;34m\u001b[0m\u001b[0;34m\u001b[0m\u001b[0m\n\u001b[0m\u001b[1;32m     38\u001b[0m                 \u001b[0mTn\u001b[0m\u001b[0;34m.\u001b[0m\u001b[0mappend\u001b[0m\u001b[0;34m(\u001b[0m\u001b[0;34m[\u001b[0m\u001b[0mN\u001b[0m\u001b[0;34m[\u001b[0m\u001b[0mi\u001b[0m\u001b[0;34m]\u001b[0m\u001b[0;34m[\u001b[0m\u001b[0mI\u001b[0m\u001b[0;34m[\u001b[0m\u001b[0mi\u001b[0m\u001b[0;34m]\u001b[0m\u001b[0;34m]\u001b[0m \u001b[0;32mfor\u001b[0m \u001b[0mi\u001b[0m \u001b[0;32min\u001b[0m \u001b[0mrange\u001b[0m\u001b[0;34m(\u001b[0m\u001b[0mlen\u001b[0m\u001b[0;34m(\u001b[0m\u001b[0msums\u001b[0m\u001b[0;34m)\u001b[0m\u001b[0;34m)\u001b[0m\u001b[0;34m]\u001b[0m\u001b[0;34m)\u001b[0m\u001b[0;34m\u001b[0m\u001b[0;34m\u001b[0m\u001b[0m\n\u001b[1;32m     39\u001b[0m     \u001b[0;32mreturn\u001b[0m \u001b[0mTn\u001b[0m\u001b[0;34m\u001b[0m\u001b[0;34m\u001b[0m\u001b[0m\n",
      "\u001b[0;32m/opt/sagemath-9.0/local/lib/python3.7/site-packages/sage/rings/number_field/number_field_element.pyx\u001b[0m in \u001b[0;36msage.rings.number_field.number_field_element.NumberFieldElement.conjugate (build/cythonized/sage/rings/number_field/number_field_element.cpp:26827)\u001b[0;34m()\u001b[0m\n\u001b[1;32m   3018\u001b[0m \u001b[0;34m\u001b[0m\u001b[0m\n\u001b[1;32m   3019\u001b[0m         \u001b[0mnf\u001b[0m \u001b[0;34m=\u001b[0m \u001b[0mself\u001b[0m\u001b[0;34m.\u001b[0m\u001b[0mnumber_field\u001b[0m\u001b[0;34m(\u001b[0m\u001b[0;34m)\u001b[0m\u001b[0;34m\u001b[0m\u001b[0;34m\u001b[0m\u001b[0m\n\u001b[0;32m-> 3020\u001b[0;31m         \u001b[0;32mreturn\u001b[0m \u001b[0mnf\u001b[0m\u001b[0;34m.\u001b[0m\u001b[0mcomplex_conjugation\u001b[0m\u001b[0;34m(\u001b[0m\u001b[0;34m)\u001b[0m\u001b[0;34m(\u001b[0m\u001b[0mself\u001b[0m\u001b[0;34m)\u001b[0m\u001b[0;34m\u001b[0m\u001b[0;34m\u001b[0m\u001b[0m\n\u001b[0m\u001b[1;32m   3021\u001b[0m \u001b[0;34m\u001b[0m\u001b[0m\n\u001b[1;32m   3022\u001b[0m     \u001b[0;32mdef\u001b[0m \u001b[0mpolynomial\u001b[0m\u001b[0;34m(\u001b[0m\u001b[0mself\u001b[0m\u001b[0;34m,\u001b[0m \u001b[0mvar\u001b[0m\u001b[0;34m=\u001b[0m\u001b[0;34m'x'\u001b[0m\u001b[0;34m)\u001b[0m\u001b[0;34m:\u001b[0m\u001b[0;34m\u001b[0m\u001b[0;34m\u001b[0m\u001b[0m\n",
      "\u001b[0;32m/opt/sagemath-9.0/local/lib/python3.7/site-packages/sage/categories/map.pyx\u001b[0m in \u001b[0;36msage.categories.map.Map.__call__ (build/cythonized/sage/categories/map.c:6517)\u001b[0;34m()\u001b[0m\n\u001b[1;32m    769\u001b[0m         \u001b[0;32mif\u001b[0m \u001b[0mP\u001b[0m \u001b[0;32mis\u001b[0m \u001b[0mD\u001b[0m\u001b[0;34m:\u001b[0m \u001b[0;31m# we certainly want to call _call_/with_args\u001b[0m\u001b[0;34m\u001b[0m\u001b[0;34m\u001b[0m\u001b[0m\n\u001b[1;32m    770\u001b[0m             \u001b[0;32mif\u001b[0m \u001b[0;32mnot\u001b[0m \u001b[0margs\u001b[0m \u001b[0;32mand\u001b[0m \u001b[0;32mnot\u001b[0m \u001b[0mkwds\u001b[0m\u001b[0;34m:\u001b[0m\u001b[0;34m\u001b[0m\u001b[0;34m\u001b[0m\u001b[0m\n\u001b[0;32m--> 771\u001b[0;31m                 \u001b[0;32mreturn\u001b[0m \u001b[0mself\u001b[0m\u001b[0;34m.\u001b[0m\u001b[0m_call_\u001b[0m\u001b[0;34m(\u001b[0m\u001b[0mx\u001b[0m\u001b[0;34m)\u001b[0m\u001b[0;34m\u001b[0m\u001b[0;34m\u001b[0m\u001b[0m\n\u001b[0m\u001b[1;32m    772\u001b[0m             \u001b[0;32mreturn\u001b[0m \u001b[0mself\u001b[0m\u001b[0;34m.\u001b[0m\u001b[0m_call_with_args\u001b[0m\u001b[0;34m(\u001b[0m\u001b[0mx\u001b[0m\u001b[0;34m,\u001b[0m \u001b[0margs\u001b[0m\u001b[0;34m,\u001b[0m \u001b[0mkwds\u001b[0m\u001b[0;34m)\u001b[0m\u001b[0;34m\u001b[0m\u001b[0;34m\u001b[0m\u001b[0m\n\u001b[1;32m    773\u001b[0m         \u001b[0;31m# Is there coercion?\u001b[0m\u001b[0;34m\u001b[0m\u001b[0;34m\u001b[0m\u001b[0;34m\u001b[0m\u001b[0m\n",
      "\u001b[0;32m/opt/sagemath-9.0/local/lib/python3.7/site-packages/sage/rings/morphism.pyx\u001b[0m in \u001b[0;36msage.rings.morphism.RingHomomorphism_im_gens._call_ (build/cythonized/sage/rings/morphism.c:9805)\u001b[0;34m()\u001b[0m\n\u001b[1;32m   1362\u001b[0m             \u001b[0;36m2\u001b[0m\u001b[0;34m*\u001b[0m\u001b[0mx\u001b[0m \u001b[0;34m+\u001b[0m \u001b[0;36m3\u001b[0m\u001b[0;34m*\u001b[0m\u001b[0my\u001b[0m \u001b[0;34m+\u001b[0m \u001b[0;36m2\u001b[0m\u001b[0;34m*\u001b[0m\u001b[0mz\u001b[0m\u001b[0;34m\u001b[0m\u001b[0;34m\u001b[0m\u001b[0m\n\u001b[1;32m   1363\u001b[0m         \"\"\"\n\u001b[0;32m-> 1364\u001b[0;31m         \u001b[0;32mreturn\u001b[0m \u001b[0mx\u001b[0m\u001b[0;34m.\u001b[0m\u001b[0m_im_gens_\u001b[0m\u001b[0;34m(\u001b[0m\u001b[0mself\u001b[0m\u001b[0;34m.\u001b[0m\u001b[0mcodomain\u001b[0m\u001b[0;34m(\u001b[0m\u001b[0;34m)\u001b[0m\u001b[0;34m,\u001b[0m \u001b[0mself\u001b[0m\u001b[0;34m.\u001b[0m\u001b[0mim_gens\u001b[0m\u001b[0;34m(\u001b[0m\u001b[0;34m)\u001b[0m\u001b[0;34m,\u001b[0m \u001b[0mbase_map\u001b[0m\u001b[0;34m=\u001b[0m\u001b[0mself\u001b[0m\u001b[0;34m.\u001b[0m\u001b[0mbase_map\u001b[0m\u001b[0;34m(\u001b[0m\u001b[0;34m)\u001b[0m\u001b[0;34m)\u001b[0m\u001b[0;34m\u001b[0m\u001b[0;34m\u001b[0m\u001b[0m\n\u001b[0m\u001b[1;32m   1365\u001b[0m \u001b[0;34m\u001b[0m\u001b[0m\n\u001b[1;32m   1366\u001b[0m \u001b[0;34m\u001b[0m\u001b[0m\n",
      "\u001b[0;32m/opt/sagemath-9.0/local/lib/python3.7/site-packages/sage/rings/number_field/number_field_element.pyx\u001b[0m in \u001b[0;36msage.rings.number_field.number_field_element.NumberFieldElement._im_gens_ (build/cythonized/sage/rings/number_field/number_field_element.cpp:9245)\u001b[0;34m()\u001b[0m\n\u001b[1;32m    482\u001b[0m         \u001b[0;32mif\u001b[0m \u001b[0mbase_map\u001b[0m \u001b[0;32mis\u001b[0m \u001b[0;32mnot\u001b[0m \u001b[0;32mNone\u001b[0m\u001b[0;34m:\u001b[0m\u001b[0;34m\u001b[0m\u001b[0;34m\u001b[0m\u001b[0m\n\u001b[1;32m    483\u001b[0m             \u001b[0mf\u001b[0m \u001b[0;34m=\u001b[0m \u001b[0mf\u001b[0m\u001b[0;34m.\u001b[0m\u001b[0mmap_coefficients\u001b[0m\u001b[0;34m(\u001b[0m\u001b[0mbase_map\u001b[0m\u001b[0;34m)\u001b[0m\u001b[0;34m\u001b[0m\u001b[0;34m\u001b[0m\u001b[0m\n\u001b[0;32m--> 484\u001b[0;31m         \u001b[0;32mreturn\u001b[0m \u001b[0mcodomain\u001b[0m\u001b[0;34m(\u001b[0m\u001b[0mf\u001b[0m\u001b[0;34m(\u001b[0m\u001b[0mim_gens\u001b[0m\u001b[0;34m[\u001b[0m\u001b[0;36m0\u001b[0m\u001b[0;34m]\u001b[0m\u001b[0;34m)\u001b[0m\u001b[0;34m)\u001b[0m\u001b[0;34m\u001b[0m\u001b[0;34m\u001b[0m\u001b[0m\n\u001b[0m\u001b[1;32m    485\u001b[0m \u001b[0;34m\u001b[0m\u001b[0m\n\u001b[1;32m    486\u001b[0m     \u001b[0;32mdef\u001b[0m \u001b[0m_latex_\u001b[0m\u001b[0;34m(\u001b[0m\u001b[0mself\u001b[0m\u001b[0;34m)\u001b[0m\u001b[0;34m:\u001b[0m\u001b[0;34m\u001b[0m\u001b[0;34m\u001b[0m\u001b[0m\n",
      "\u001b[0;32m/opt/sagemath-9.0/local/lib/python3.7/site-packages/sage/rings/polynomial/polynomial_rational_flint.pyx\u001b[0m in \u001b[0;36msage.rings.polynomial.polynomial_rational_flint.Polynomial_rational_flint.__call__ (build/cythonized/sage/rings/polynomial/polynomial_rational_flint.cpp:7800)\u001b[0;34m()\u001b[0m\n\u001b[1;32m    512\u001b[0m                 \u001b[0;32mreturn\u001b[0m \u001b[0mr\u001b[0m\u001b[0;34m\u001b[0m\u001b[0;34m\u001b[0m\u001b[0m\n\u001b[1;32m    513\u001b[0m \u001b[0;34m\u001b[0m\u001b[0m\n\u001b[0;32m--> 514\u001b[0;31m         \u001b[0;32mreturn\u001b[0m \u001b[0mPolynomial\u001b[0m\u001b[0;34m.\u001b[0m\u001b[0m__call__\u001b[0m\u001b[0;34m(\u001b[0m\u001b[0mself\u001b[0m\u001b[0;34m,\u001b[0m \u001b[0;34m*\u001b[0m\u001b[0mx\u001b[0m\u001b[0;34m,\u001b[0m \u001b[0;34m**\u001b[0m\u001b[0mkwds\u001b[0m\u001b[0;34m)\u001b[0m\u001b[0;34m\u001b[0m\u001b[0;34m\u001b[0m\u001b[0m\n\u001b[0m\u001b[1;32m    515\u001b[0m \u001b[0;34m\u001b[0m\u001b[0m\n\u001b[1;32m    516\u001b[0m     \u001b[0mcpdef\u001b[0m \u001b[0mPolynomial\u001b[0m \u001b[0mtruncate\u001b[0m\u001b[0;34m(\u001b[0m\u001b[0mself\u001b[0m\u001b[0;34m,\u001b[0m \u001b[0mlong\u001b[0m \u001b[0mn\u001b[0m\u001b[0;34m)\u001b[0m\u001b[0;34m:\u001b[0m\u001b[0;34m\u001b[0m\u001b[0;34m\u001b[0m\u001b[0m\n",
      "\u001b[0;32m/opt/sagemath-9.0/local/lib/python3.7/site-packages/sage/rings/polynomial/polynomial_element.pyx\u001b[0m in \u001b[0;36msage.rings.polynomial.polynomial_element.Polynomial.__call__ (build/cythonized/sage/rings/polynomial/polynomial_element.c:9872)\u001b[0;34m()\u001b[0m\n\u001b[1;32m    796\u001b[0m                 \u001b[0mresult\u001b[0m \u001b[0;34m=\u001b[0m \u001b[0mpol\u001b[0m\u001b[0;34m.\u001b[0m\u001b[0mget_unsafe\u001b[0m\u001b[0;34m(\u001b[0m\u001b[0md\u001b[0m\u001b[0;34m)\u001b[0m\u001b[0;34m\u001b[0m\u001b[0;34m\u001b[0m\u001b[0m\n\u001b[1;32m    797\u001b[0m                 \u001b[0;32mfor\u001b[0m \u001b[0mi\u001b[0m \u001b[0;32min\u001b[0m \u001b[0mxrange\u001b[0m\u001b[0;34m(\u001b[0m\u001b[0md\u001b[0m \u001b[0;34m-\u001b[0m \u001b[0;36m1\u001b[0m\u001b[0;34m,\u001b[0m \u001b[0;34m-\u001b[0m\u001b[0;36m1\u001b[0m\u001b[0;34m,\u001b[0m \u001b[0;34m-\u001b[0m\u001b[0;36m1\u001b[0m\u001b[0;34m)\u001b[0m\u001b[0;34m:\u001b[0m\u001b[0;34m\u001b[0m\u001b[0;34m\u001b[0m\u001b[0m\n\u001b[0;32m--> 798\u001b[0;31m                     \u001b[0mresult\u001b[0m \u001b[0;34m=\u001b[0m \u001b[0mresult\u001b[0m \u001b[0;34m*\u001b[0m \u001b[0ma\u001b[0m \u001b[0;34m+\u001b[0m \u001b[0mpol\u001b[0m\u001b[0;34m.\u001b[0m\u001b[0mget_unsafe\u001b[0m\u001b[0;34m(\u001b[0m\u001b[0mi\u001b[0m\u001b[0;34m)\u001b[0m\u001b[0;34m\u001b[0m\u001b[0;34m\u001b[0m\u001b[0m\n\u001b[0m\u001b[1;32m    799\u001b[0m                 \u001b[0;32mreturn\u001b[0m \u001b[0mresult\u001b[0m\u001b[0;34m\u001b[0m\u001b[0;34m\u001b[0m\u001b[0m\n\u001b[1;32m    800\u001b[0m             \u001b[0mpol\u001b[0m\u001b[0;34m.\u001b[0m\u001b[0m_compiled\u001b[0m \u001b[0;34m=\u001b[0m \u001b[0mCompiledPolynomialFunction\u001b[0m\u001b[0;34m(\u001b[0m\u001b[0mpol\u001b[0m\u001b[0;34m.\u001b[0m\u001b[0mlist\u001b[0m\u001b[0;34m(\u001b[0m\u001b[0;34m)\u001b[0m\u001b[0;34m)\u001b[0m\u001b[0;34m\u001b[0m\u001b[0;34m\u001b[0m\u001b[0m\n",
      "\u001b[0;32m/opt/sagemath-9.0/local/lib/python3.7/site-packages/sage/structure/element.pyx\u001b[0m in \u001b[0;36msage.structure.element.Element.__mul__ (build/cythonized/sage/structure/element.c:11994)\u001b[0;34m()\u001b[0m\n\u001b[1;32m   1513\u001b[0m         \u001b[0mcdef\u001b[0m \u001b[0mint\u001b[0m \u001b[0mcl\u001b[0m \u001b[0;34m=\u001b[0m \u001b[0mclassify_elements\u001b[0m\u001b[0;34m(\u001b[0m\u001b[0mleft\u001b[0m\u001b[0;34m,\u001b[0m \u001b[0mright\u001b[0m\u001b[0;34m)\u001b[0m\u001b[0;34m\u001b[0m\u001b[0;34m\u001b[0m\u001b[0m\n\u001b[1;32m   1514\u001b[0m         \u001b[0;32mif\u001b[0m \u001b[0mHAVE_SAME_PARENT\u001b[0m\u001b[0;34m(\u001b[0m\u001b[0mcl\u001b[0m\u001b[0;34m)\u001b[0m\u001b[0;34m:\u001b[0m\u001b[0;34m\u001b[0m\u001b[0;34m\u001b[0m\u001b[0m\n\u001b[0;32m-> 1515\u001b[0;31m             \u001b[0;32mreturn\u001b[0m \u001b[0;34m(\u001b[0m\u001b[0;34m<\u001b[0m\u001b[0mElement\u001b[0m\u001b[0;34m>\u001b[0m\u001b[0mleft\u001b[0m\u001b[0;34m)\u001b[0m\u001b[0;34m.\u001b[0m\u001b[0m_mul_\u001b[0m\u001b[0;34m(\u001b[0m\u001b[0mright\u001b[0m\u001b[0;34m)\u001b[0m\u001b[0;34m\u001b[0m\u001b[0;34m\u001b[0m\u001b[0m\n\u001b[0m\u001b[1;32m   1516\u001b[0m         \u001b[0;32mif\u001b[0m \u001b[0mBOTH_ARE_ELEMENT\u001b[0m\u001b[0;34m(\u001b[0m\u001b[0mcl\u001b[0m\u001b[0;34m)\u001b[0m\u001b[0;34m:\u001b[0m\u001b[0;34m\u001b[0m\u001b[0;34m\u001b[0m\u001b[0m\n\u001b[1;32m   1517\u001b[0m             \u001b[0;32mreturn\u001b[0m \u001b[0mcoercion_model\u001b[0m\u001b[0;34m.\u001b[0m\u001b[0mbin_op\u001b[0m\u001b[0;34m(\u001b[0m\u001b[0mleft\u001b[0m\u001b[0;34m,\u001b[0m \u001b[0mright\u001b[0m\u001b[0;34m,\u001b[0m \u001b[0mmul\u001b[0m\u001b[0;34m)\u001b[0m\u001b[0;34m\u001b[0m\u001b[0;34m\u001b[0m\u001b[0m\n",
      "\u001b[0;32m/opt/sagemath-9.0/local/lib/python3.7/site-packages/sage/rings/number_field/number_field_element.pyx\u001b[0m in \u001b[0;36msage.rings.number_field.number_field_element.NumberFieldElement._mul_ (build/cythonized/sage/rings/number_field/number_field_element.cpp:23737)\u001b[0;34m()\u001b[0m\n\u001b[1;32m   2438\u001b[0m         \u001b[0mcdef\u001b[0m \u001b[0mZZ_c\u001b[0m \u001b[0mtemp1\u001b[0m\u001b[0;34m\u001b[0m\u001b[0;34m\u001b[0m\u001b[0m\n\u001b[1;32m   2439\u001b[0m         \u001b[0mx\u001b[0m \u001b[0;34m=\u001b[0m \u001b[0mself\u001b[0m\u001b[0;34m.\u001b[0m\u001b[0m_new\u001b[0m\u001b[0;34m(\u001b[0m\u001b[0;34m)\u001b[0m\u001b[0;34m\u001b[0m\u001b[0;34m\u001b[0m\u001b[0m\n\u001b[0;32m-> 2440\u001b[0;31m         \u001b[0msig_on\u001b[0m\u001b[0;34m(\u001b[0m\u001b[0;34m)\u001b[0m\u001b[0;34m\u001b[0m\u001b[0;34m\u001b[0m\u001b[0m\n\u001b[0m\u001b[1;32m   2441\u001b[0m         \u001b[0;31m# MulMod doesn't handle non-monic polynomials.\u001b[0m\u001b[0;34m\u001b[0m\u001b[0;34m\u001b[0m\u001b[0;34m\u001b[0m\u001b[0m\n\u001b[1;32m   2442\u001b[0m         \u001b[0;31m# Therefore, we handle the non-monic case entirely separately.\u001b[0m\u001b[0;34m\u001b[0m\u001b[0;34m\u001b[0m\u001b[0;34m\u001b[0m\u001b[0m\n",
      "\u001b[0;31mKeyboardInterrupt\u001b[0m: "
     ]
    }
   ],
   "source": [
    "fr=first_rows([1,1,1,2,3])\n",
    "fr"
   ]
  },
  {
   "cell_type": "code",
   "execution_count": 134,
   "metadata": {},
   "outputs": [
    {
     "data": {
      "text/plain": [
       "(-2*z, -2*z^2)"
      ]
     },
     "execution_count": 134,
     "metadata": {},
     "output_type": "execute_result"
    }
   ],
   "source": [
    "w=S3[3]\n",
    "w,typ(w)"
   ]
  },
  {
   "cell_type": "code",
   "execution_count": 94,
   "metadata": {},
   "outputs": [
    {
     "data": {
      "text/plain": [
       "2*z^3 + 2*z^2 + 2*z + 1"
      ]
     },
     "execution_count": 94,
     "metadata": {},
     "output_type": "execute_result"
    }
   ],
   "source": [
    "K.<z>=CyclotomicField(5)\n",
    "-z^4+z^3+z^2+z"
   ]
  },
  {
   "cell_type": "code",
   "execution_count": 103,
   "metadata": {},
   "outputs": [
    {
     "data": {
      "text/plain": [
       "-x^4 + x^3 + x^2 + x"
      ]
     },
     "execution_count": 103,
     "metadata": {},
     "output_type": "execute_result"
    }
   ],
   "source": [
    "R=QQ['x']\n",
    "x=R.0\n",
    "w=S2[19]\n",
    "crt([R(w.polynomial()),2],[x^4+x^3+x^2+x+1,x-1])"
   ]
  },
  {
   "cell_type": "code",
   "execution_count": 71,
   "metadata": {},
   "outputs": [
    {
     "name": "stdout",
     "output_type": "stream",
     "text": [
      "[0, 1, 2, 3, 4, 5, 6, 7, 8, 9, 10, 11, 12, 13, 14, 15, 16, 17, 18, 19, 20, 21, 22, 23, 24, 25, 26, 27, 28, 29, 30, 31, 32, 33, 34, 35, 36, 37, 38, 39, 40, 41, 42]\n"
     ]
    }
   ],
   "source": [
    "def find_row(s,M):\n",
    "    for r in M.rows():\n",
    "        rl=r.list()\n",
    "        rla=list(map(abs,rl))\n",
    "        rla.sort()\n",
    "        return rla==s\n",
    "    return False\n",
    "\n",
    "bad=[]\n",
    "s=[1,2,2,2,2,2,2]\n",
    "for i in range(44):\n",
    "    if find_row(s,W44[i]) and not(i in bad):\n",
    "        bad.append(i)\n",
    "    if find_row(s,W44[i].transpose()) and not(i in bad):\n",
    "        bad.append(i)\n",
    "s=[0,0,2,2,2,2,3]\n",
    "for i in range(44):\n",
    "    if find_row(s,W44[i]) and not(i in bad):\n",
    "        bad.append(i)\n",
    "    if find_row(s,W44[i].transpose()) and not(i in bad):\n",
    "        bad.append(i)\n",
    "        \n",
    "s=[0,1,1,1,2,3,3]\n",
    "for i in range(44):\n",
    "    if find_row(s,W44[i]) and not(i in bad):\n",
    "        bad.append(i)\n",
    "    if find_row(s,W44[i].transpose()) and not(i in bad):\n",
    "        bad.append(i)\n",
    "        \n",
    "s=[0,0,0,1,2,2,4]\n",
    "for i in range(44):\n",
    "    if find_row(s,W44[i]) and not(i in bad):\n",
    "        bad.append(i)\n",
    "    if find_row(s,W44[i].transpose()) and not(i in bad):\n",
    "        bad.append(i)\n",
    "        \n",
    "s=[0,0,0,0,0,3,4]\n",
    "for i in range(44):\n",
    "    if find_row(s,W44[i]) and not(i in bad):\n",
    "        bad.append(i)\n",
    "    if find_row(s,W44[i].transpose()) and not(i in bad):\n",
    "        bad.append(i)\n",
    "print(bad)"
   ]
  },
  {
   "cell_type": "code",
   "execution_count": 72,
   "metadata": {},
   "outputs": [
    {
     "data": {
      "text/plain": [
       "[5 0 0 0 0 0 0]\n",
       "[0 5 0 0 0 0 0]\n",
       "[0 0 5 0 0 0 0]\n",
       "[0 0 0 5 0 0 0]\n",
       "[0 0 0 0 5 0 0]\n",
       "[0 0 0 0 0 5 0]\n",
       "[0 0 0 0 0 0 5]"
      ]
     },
     "execution_count": 72,
     "metadata": {},
     "output_type": "execute_result"
    }
   ],
   "source": [
    "W44[43]"
   ]
  },
  {
   "cell_type": "code",
   "execution_count": 47,
   "metadata": {},
   "outputs": [],
   "source": [
    "W44=load('/home/sage/Dropbox/AGYGDS/Radi/Sage/44mat7.sobj')"
   ]
  },
  {
   "cell_type": "code",
   "execution_count": 49,
   "metadata": {},
   "outputs": [
    {
     "data": {
      "text/plain": [
       "[\n",
       "[ 2  2  2  2  2  2  1]  [ 2  2  2  2  2  2  1]  [ 2  2  2  2  2  2  1]\n",
       "[ 2  2  2 -2 -2 -1 -2]  [ 2  2  2 -2 -2 -1 -2]  [ 3  2 -2 -2  0  0 -2]\n",
       "[ 2 -2 -1  2 -2  2 -2]  [ 3 -2 -2  0  0  2 -2]  [ 2 -3 -2  0  2  0  2]\n",
       "[ 1  2 -2  2 -2 -2  2]  [ 2 -3  2  0  0 -2  2]  [ 2 -2  3  0  0 -2 -2]\n",
       "[ 2 -3  2  0  0 -2  2]  [ 2  2 -3  0  0 -2  2]  [ 2  0  0  1 -4  0  2]\n",
       "[ 2  0 -2 -3  0  2  2]  [ 0  0  0  4 -1 -2 -2]  [ 0  2  0  0  1 -4  2]\n",
       "[ 2  0 -2  0  3 -2 -2], [ 0  0  0  1 -4  2  2], [ 0  0  2 -4  0  1  2],\n",
       "\n",
       "[ 2  2  2  2  2  2  1]  [ 2  2  2  2  2  2  1]  [ 2  2  2  2  2  2  1]\n",
       "[ 3 -3  1  1 -1  0 -2]  [ 3 -3  1  1 -1  0 -2]  [ 3 -3  1  1 -1  0 -2]\n",
       "[ 3  1 -3  0 -1 -1  2]  [ 3  1 -1 -1  0 -3  2]  [ 3  0 -3 -1  1 -1  2]\n",
       "[ 1  1 -1 -3  0  3 -2]  [ 1  0 -1 -1 -3  3  2]  [ 1  3  0  1 -1 -3 -2]\n",
       "[ 1  1  0 -1  3 -3 -2]  [ 0  3  1  1 -3 -1 -2]  [ 0  1 -3  1 -1  3 -2]\n",
       "[ 1  0  3 -3 -1 -1  2]  [ 1  1 -4  1  1  1 -2]  [ 1  1  1 -4  1  1 -2]\n",
       "[ 0  3  1  1 -3 -1 -2], [ 1  1  1 -4  1  1 -2], [ 1  1  1 -1 -4  1  2],\n",
       "\n",
       "[ 2  2  2  2  2  2  1]  [ 2  2  2  2  2  2  1]  [ 3  2  2  2  2  0  0]\n",
       "[ 4  1 -1 -1 -1 -1 -2]  [ 4 -1 -1 -1 -1 -1  2]  [ 2  3 -2 -2 -2  0  0]\n",
       "[ 1 -4  1  1  1  1 -2]  [ 1 -4  1  1  1  1 -2]  [ 2 -2  3 -2 -2  0  0]\n",
       "[ 1 -1 -4  1  1  1  2]  [ 1  1 -4  1  1  1 -2]  [ 2 -2 -2  3 -2  0  0]\n",
       "[ 1 -1  1 -4  1  1  2]  [ 1  1  1 -4  1  1 -2]  [ 2 -2 -2 -2  3  0  0]\n",
       "[ 1 -1  1  1 -4  1  2]  [ 1  1  1  1 -4  1 -2]  [ 0  0  0  0  0  4  3]\n",
       "[ 1 -1  1  1  1 -4  2], [ 1  1  1  1  1 -4 -2], [ 0  0  0  0  0  3 -4],\n",
       "\n",
       "[ 3  2  2  2  2  0  0]  [ 3  2  2  2  2  0  0]  [ 3  2  2  2  2  0  0]\n",
       "[ 2  3 -2 -2 -2  0  0]  [ 2  3 -2 -2 -2  0  0]  [ 2 -3  2 -2  0  2  0]\n",
       "[ 2 -2  3 -2 -2  0  0]  [ 2 -2 -3  2  0  2  0]  [ 2 -2 -3  0  2 -2  0]\n",
       "[ 2 -2 -2  3 -2  0  0]  [ 2 -2  2 -3  0  2  0]  [ 2  2  0 -3 -2 -2  0]\n",
       "[ 2 -2 -2 -2  3  0  0]  [ 2 -2  0  0 -1 -4  0]  [ 2  0 -2  2 -3  2  0]\n",
       "[ 0  0  0  0  0  5  0]  [ 0  0  2  2 -4  1  0]  [ 0  2 -2 -2  2  3  0]\n",
       "[ 0  0  0  0  0  0  5], [ 0  0  0  0  0  0  5], [ 0  0  0  0  0  0  5],\n",
       "\n",
       "[ 3  2  2  2  2  0  0]  [ 3  2  2  2  2  0  0]  [ 3  2  2  2  2  0  0]\n",
       "[ 2 -3  2 -2  0  2  0]  [ 0  2  2 -2 -2  3  0]  [ 2 -3  1 -1  0  3  1]\n",
       "[ 2 -2 -1  0  0 -4  0]  [ 2 -4  1  0  0  2  0]  [ 2 -1  1  0 -3 -3  1]\n",
       "[ 2  2  0 -1 -4  0  0]  [ 2  1 -4  0  0  2  0]  [ 2  0 -1 -3  1 -1 -3]\n",
       "[ 2  0 -4  0  1  2  0]  [ 2  0  0 -4  1 -2  0]  [ 0  3  1 -3 -1  1  2]\n",
       "[ 0  2  0 -4  2 -1  0]  [ 2  0  0  1 -4 -2  0]  [ 0  1  1  1 -3  2 -3]\n",
       "[ 0  0  0  0  0  0  5], [ 0  0  0  0  0  0  5], [ 2  1 -4  1 -1  1  1],\n",
       "\n",
       "[ 3  2  2  2  2  0  0]  [ 3  2  2  2  2  0  0]  [ 3  2  2  2  2  0  0]\n",
       "[ 2 -3  1 -1  0  3  1]  [ 2 -3  1 -1  0  3  1]  [ 2 -3  1 -1  0  3  1]\n",
       "[ 2  1 -1  0 -3  1 -3]  [ 2  1 -1  0 -3  1 -3]  [ 2 -1 -1  0 -1 -3  3]\n",
       "[ 2 -1  0 -3  1 -3 -1]  [ 2 -1  0 -3  1 -3 -1]  [ 2  0  1 -1 -3 -1 -3]\n",
       "[ 2  0 -3  1 -1 -1  3]  [ 2  0 -3  1 -1 -1  3]  [ 0  3  1 -3 -1  1  2]\n",
       "[ 0  3 -1 -3  1  2  1]  [ 0  3  1 -3 -1  1  2]  [ 0  1 -1  3 -3  2  1]\n",
       "[ 0  1  3 -1 -3 -1  2], [ 0  1 -3 -1  3  2 -1], [ 2  1 -4 -1  1  1 -1],\n",
       "\n",
       "[ 3  2  2  2  2  0  0]  [ 3  2  2  2  2  0  0]  [ 3  2  2  2  2  0  0]\n",
       "[ 2 -1 -1 -1  0  3  3]  [ 2 -4  2 -1  0  0  0]  [ 2 -4  2 -1  0  0  0]\n",
       "[ 0  1  1  1 -3  3 -2]  [ 2  2  0 -4 -1  0  0]  [ 2  2  0 -4 -1  0  0]\n",
       "[ 0  1  1  1 -3 -2  3]  [ 2 -1 -4  0  2  0  0]  [ 2 -1 -4  0  2  0  0]\n",
       "[ 2 -4  1  1 -1 -1 -1]  [ 2  0 -1  2 -4  0  0]  [ 2  0 -1  2 -4  0  0]\n",
       "[ 2  1 -4  1 -1 -1 -1]  [ 0  0  0  0  0  4  3]  [ 0  0  0  0  0  5  0]\n",
       "[ 2  1  1 -4 -1 -1 -1], [ 0  0  0  0  0  3 -4], [ 0  0  0  0  0  0  5],\n",
       "\n",
       "[ 3  2  2  2  2  0  0]  [ 3  3  2  1  1  1  0]  [ 3  3  2  1  1  1  0]\n",
       "[ 2 -4  1  0  0  2  0]  [ 3 -3  1 -2  1 -1  0]  [ 3 -3  1 -2  1 -1  0]\n",
       "[ 2  1  0 -4  0  0  2]  [ 2  1 -3  1 -1 -3  0]  [ 2  1 -3  1 -1 -3  0]\n",
       "[ 2  0 -4  0  1  0 -2]  [ 1 -2  1  3 -3  1  0]  [ 1  0 -3 -1  1  3  2]\n",
       "[ 2  0  0  1 -4 -2  0]  [ 1 -1 -3  1  2  3  0]  [ 1 -1  1  1 -4  1  2]\n",
       "[ 0  2  0  0 -2  4 -1]  [ 1  1 -1 -3 -3  2  0]  [ 1 -1 -1  1 -1  2 -4]\n",
       "[ 0  0  2 -2  0 -1 -4], [ 0  0  0  0  0  0  5], [ 0  2  0 -4 -2  0 -1],\n",
       "\n",
       "[ 3  3  2  1  1  1  0]  [ 3  3  2  1  1  1  0]  [ 3  3  2  1  1  1  0]\n",
       "[ 3 -3  1 -2  1 -1  0]  [ 3 -3  1 -1 -1  0  2]  [ 3 -3  1 -1 -1  0  2]\n",
       "[ 2 -1 -3  1 -1  3  0]  [ 1  2 -1 -3 -1 -3  0]  [ 1  1 -1 -3  2 -3  0]\n",
       "[ 1  2 -1 -3 -3 -1  0]  [ 1 -1 -1  2  3 -3  0]  [ 1  1 -1  2 -3 -3  0]\n",
       "[ 1  1 -3  1  2 -3  0]  [ 0  1 -1  3 -3 -1  2]  [ 0  1  1 -3 -3  1 -2]\n",
       "[ 1 -1  1  3 -3 -2  0]  [ 1 -1  1  1 -2 -1 -4]  [ 1 -2  1  1  1 -1 -4]\n",
       "[ 0  0  0  0  0  0  5], [ 2  0 -4  0  0  2 -1], [ 2  0 -4  0  0  2 -1],\n",
       "\n",
       "[ 3  3  2  1  1  1  0]  [ 3  3  2  1  1  1  0]  [ 3  3  2  1  1  1  0]\n",
       "[ 3 -2 -3  1  1  1  0]  [ 3 -2 -3  1  1  1  0]  [ 3 -2 -3  1  1  1  0]\n",
       "[ 2 -3  3 -1 -1 -1  0]  [ 2 -3  3 -1 -1 -1  0]  [ 2  1 -1 -3 -3 -1  0]\n",
       "[ 1  1 -1 -3 -3  2  0]  [ 1  1 -1 -4  1 -1  2]  [ 1 -3  3 -1 -1  2  0]\n",
       "[ 1  1 -1 -3  2 -3  0]  [ 1  1 -1  1 -4 -1  2]  [ 1 -1  1  3 -2 -3  0]\n",
       "[ 1  1 -1  2 -3 -3  0]  [ 1  1 -1 -1 -1 -2 -4]  [ 1 -1  1 -2  3 -3  0]\n",
       "[ 0  0  0  0  0  0  5], [ 0  0  0  2  2 -4  1], [ 0  0  0  0  0  0  5],\n",
       "\n",
       "[ 3  3  2  1  1  1  0]  [ 3  3  2  1  1  1  0]  [ 3  3  2  1  1  1  0]\n",
       "[ 3 -2  1 -3 -1 -1  0]  [ 3 -2  0 -3  1 -1  1]  [ 3 -1 -1 -3 -2  1  0]\n",
       "[ 2 -1 -3  1  3 -1  0]  [ 1 -3  0  2  1  3 -1]  [ 2 -1 -3  1  3 -1  0]\n",
       "[ 1 -3  1  3 -1  2  0]  [ 1 -1  0  3 -1 -2  3]  [ 1 -3  1  3 -1  2  0]\n",
       "[ 1  1 -3 -1 -2  3  0]  [ 0  1 -2 -1 -1  3  3]  [ 1 -2  3 -1  1 -3  0]\n",
       "[ 1  1 -1  2 -3 -3  0]  [ 1  1 -4  1  2 -1 -1]  [ 1  1 -1  2 -3 -3  0]\n",
       "[ 0  0  0  0  0  0  5], [ 2  0 -1  0 -4  0 -2], [ 0  0  0  0  0  0  5],\n",
       "\n",
       "[ 4  2  2  1  0  0  0]  [ 4  2  2  1  0  0  0]  [ 4  2  2  1  0  0  0]\n",
       "[ 2 -4  1 -2  0  0  0]  [ 2 -4  1 -2  0  0  0]  [ 2 -4  1 -2  0  0  0]\n",
       "[ 2  1 -4 -2  0  0  0]  [ 2  1 -4 -2  0  0  0]  [ 2 -1 -4  2  0  0  0]\n",
       "[ 1 -2 -2  4  0  0  0]  [ 1 -2 -2  4  0  0  0]  [ 1  2 -2 -4  0  0  0]\n",
       "[ 0  0  0  0  4  3  0]  [ 0  0  0  0  5  0  0]  [ 0  0  0  0  4  3  0]\n",
       "[ 0  0  0  0  3 -4  0]  [ 0  0  0  0  0  5  0]  [ 0  0  0  0  3 -4  0]\n",
       "[ 0  0  0  0  0  0  5], [ 0  0  0  0  0  0  5], [ 0  0  0  0  0  0  5],\n",
       "\n",
       "[ 4  2  2  1  0  0  0]  [ 4  2  2  1  0  0  0]  [ 4  2  2  1  0  0  0]\n",
       "[ 2 -4  1 -2  0  0  0]  [ 2 -4  1 -2  0  0  0]  [ 2 -4  1 -2  0  0  0]\n",
       "[ 2 -1 -4  2  0  0  0]  [ 2  0 -4  0  2  1  0]  [ 2  0 -4  0  2  1  0]\n",
       "[ 1  2 -2 -4  0  0  0]  [ 1  0 -2  0 -4 -2  0]  [ 1  0 -2  0 -4 -2  0]\n",
       "[ 0  0  0  0  5  0  0]  [ 0  2  0 -4  1 -2  0]  [ 0  2  0 -4 -1  2  0]\n",
       "[ 0  0  0  0  0  5  0]  [ 0  1  0 -2 -2  4  0]  [ 0  1  0 -2  2 -4  0]\n",
       "[ 0  0  0  0  0  0  5], [ 0  0  0  0  0  0  5], [ 0  0  0  0  0  0  5],\n",
       "\n",
       "[ 4  2  2  1  0  0  0]  [ 4  3  0  0  0  0  0]  [ 4  3  0  0  0  0  0]\n",
       "[ 2 -4  0  0  2  1  0]  [ 3 -4  0  0  0  0  0]  [ 3 -4  0  0  0  0  0]\n",
       "[ 2  0 -4  0 -1 -2  0]  [ 0  0  4  3  0  0  0]  [ 0  0  4  3  0  0  0]\n",
       "[ 1  0  0 -4 -2  2  0]  [ 0  0  3 -4  0  0  0]  [ 0  0  3 -4  0  0  0]\n",
       "[ 0  2 -1 -2  4  0  0]  [ 0  0  0  0  4  3  0]  [ 0  0  0  0  5  0  0]\n",
       "[ 0  1 -2  2  0  4  0]  [ 0  0  0  0  3 -4  0]  [ 0  0  0  0  0  5  0]\n",
       "[ 0  0  0  0  0  0  5], [ 0  0  0  0  0  0  5], [ 0  0  0  0  0  0  5],\n",
       "\n",
       "[ 4  3  0  0  0  0  0]  [5 0 0 0 0 0 0]\n",
       "[ 3 -4  0  0  0  0  0]  [0 5 0 0 0 0 0]\n",
       "[ 0  0  5  0  0  0  0]  [0 0 5 0 0 0 0]\n",
       "[ 0  0  0  5  0  0  0]  [0 0 0 5 0 0 0]\n",
       "[ 0  0  0  0  5  0  0]  [0 0 0 0 5 0 0]\n",
       "[ 0  0  0  0  0  5  0]  [0 0 0 0 0 5 0]\n",
       "[ 0  0  0  0  0  0  5], [0 0 0 0 0 0 5]\n",
       "]"
      ]
     },
     "execution_count": 49,
     "metadata": {},
     "output_type": "execute_result"
    }
   ],
   "source": [
    "def "
   ]
  },
  {
   "cell_type": "code",
   "execution_count": 116,
   "metadata": {},
   "outputs": [],
   "source": [
    "load('/home/sage/Dropbox/AGYGDS/Assaf/maagarim.sage')"
   ]
  },
  {
   "cell_type": "code",
   "execution_count": 119,
   "metadata": {},
   "outputs": [
    {
     "data": {
      "text/plain": [
       "[[[2, 4], [0, 1]], [[3, 1], [[2, 1], [[1, 3]]]], [[4, 1], [0, 4]]]"
      ]
     },
     "execution_count": 119,
     "metadata": {},
     "output_type": "execute_result"
    }
   ],
   "source": [
    "sorsm(16,5)"
   ]
  },
  {
   "cell_type": "code",
   "execution_count": null,
   "metadata": {},
   "outputs": [],
   "source": []
  }
 ],
 "metadata": {
  "kernelspec": {
   "display_name": "SageMath 9.0",
   "language": "sage",
   "name": "sagemath"
  },
  "language_info": {
   "codemirror_mode": {
    "name": "ipython",
    "version": 3
   },
   "file_extension": ".py",
   "mimetype": "text/x-python",
   "name": "python",
   "nbconvert_exporter": "python",
   "pygments_lexer": "ipython3",
   "version": "3.7.3"
  }
 },
 "nbformat": 4,
 "nbformat_minor": 2
}
