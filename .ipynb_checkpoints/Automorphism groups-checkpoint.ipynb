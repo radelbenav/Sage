{
 "cells": [
  {
   "cell_type": "code",
   "execution_count": 1,
   "metadata": {},
   "outputs": [],
   "source": [
    "M=load('44mat7.sobj')"
   ]
  },
  {
   "cell_type": "code",
   "execution_count": 42,
   "metadata": {},
   "outputs": [],
   "source": [
    "A=M[1]"
   ]
  },
  {
   "cell_type": "code",
   "execution_count": 5,
   "metadata": {},
   "outputs": [],
   "source": [
    "load('/home/sage/Dropbox/AGYGDS/Assaf/BackTracking3.sage')\n",
    "load('/home/sage/Dropbox/AGYGDS/Assaf/PermsBetweenMatrices.sage')"
   ]
  },
  {
   "cell_type": "code",
   "execution_count": 51,
   "metadata": {},
   "outputs": [
    {
     "name": "stdout",
     "output_type": "stream",
     "text": [
      "(-41, 1, 6, 6, 6, 14, 17)\n",
      "m= 2\n",
      "|LM|= 6\n",
      "|LM|= 6\n",
      "|LM|= 6\n",
      "|LM|= 6\n",
      "len(Good)= 24\n",
      "find perms\n",
      "|G|= 2\n",
      "sigc= ()\n",
      "good\n",
      "perms= ((), (3,5))\n"
     ]
    }
   ],
   "source": [
    "L,R4=gen_aut(A,3,3)"
   ]
  },
  {
   "cell_type": "code",
   "execution_count": 13,
   "metadata": {},
   "outputs": [
    {
     "data": {
      "text/plain": [
       "True"
      ]
     },
     "execution_count": 13,
     "metadata": {},
     "output_type": "execute_result"
    }
   ],
   "source": [
    "L*A*R==A"
   ]
  },
  {
   "cell_type": "code",
   "execution_count": 52,
   "metadata": {},
   "outputs": [
    {
     "data": {
      "text/plain": [
       "4"
      ]
     },
     "execution_count": 52,
     "metadata": {},
     "output_type": "execute_result"
    }
   ],
   "source": [
    "GG=GL(7,GF(11))\n",
    "G=GG.subgroup([L4,L3,L2,L1,L])\n",
    "G.cardinality()"
   ]
  },
  {
   "cell_type": "code",
   "execution_count": 30,
   "metadata": {},
   "outputs": [],
   "source": [
    "GP=G.as_permutation_group()"
   ]
  },
  {
   "cell_type": "code",
   "execution_count": 31,
   "metadata": {},
   "outputs": [],
   "source": [
    "C=GP.center()\n",
    "G1=GP.quotient(C)"
   ]
  },
  {
   "cell_type": "code",
   "execution_count": 33,
   "metadata": {},
   "outputs": [
    {
     "data": {
      "text/plain": [
       "True"
      ]
     },
     "execution_count": 33,
     "metadata": {},
     "output_type": "execute_result"
    }
   ],
   "source": [
    "G1.is_isomorphic(SymmetricGroup(4))"
   ]
  },
  {
   "cell_type": "code",
   "execution_count": 53,
   "metadata": {},
   "outputs": [
    {
     "data": {
      "text/plain": [
       "(\n",
       "[0 1 0 0 0 0 0]  [ 0  1  0  0  0  0  0]  [ 1  0  0  0  0  0  0]\n",
       "[1 0 0 0 0 0 0]  [ 1  0  0  0  0  0  0]  [ 0  1  0  0  0  0  0]\n",
       "[0 0 1 0 0 0 0]  [ 0  0  1  0  0  0  0]  [ 0  0  1  0  0  0  0]\n",
       "[0 0 0 0 1 0 0]  [ 0  0  0  0  1  0  0]  [ 0  0  0  1  0  0  0]\n",
       "[0 0 0 1 0 0 0]  [ 0  0  0  1  0  0  0]  [ 0  0  0  0  1  0  0]\n",
       "[0 0 0 0 0 0 1]  [ 0  0  0  0  0 10  0]  [ 0  0  0  0  0  0 10]\n",
       "[0 0 0 0 0 1 0], [ 0  0  0  0  0  0 10], [ 0  0  0  0  0 10  0],\n",
       "\n",
       "[1 0 0 0 0 0 0]\n",
       "[0 1 0 0 0 0 0]\n",
       "[0 0 1 0 0 0 0]\n",
       "[0 0 0 1 0 0 0]\n",
       "[0 0 0 0 1 0 0]\n",
       "[0 0 0 0 0 1 0]\n",
       "[0 0 0 0 0 0 1]\n",
       ")"
      ]
     },
     "execution_count": 53,
     "metadata": {},
     "output_type": "execute_result"
    }
   ],
   "source": [
    "G.list()"
   ]
  },
  {
   "cell_type": "code",
   "execution_count": 54,
   "metadata": {},
   "outputs": [
    {
     "data": {
      "text/plain": [
       "[ 2  2  2  2  2  2  1]\n",
       "[ 2  2  2 -2 -2 -1 -2]\n",
       "[ 3 -2 -2  0  0  2 -2]\n",
       "[ 2 -3  2  0  0 -2  2]\n",
       "[ 2  2 -3  0  0 -2  2]\n",
       "[ 0  0  0  4 -1 -2 -2]\n",
       "[ 0  0  0  1 -4  2  2]"
      ]
     },
     "execution_count": 54,
     "metadata": {},
     "output_type": "execute_result"
    }
   ],
   "source": [
    "A"
   ]
  },
  {
   "cell_type": "code",
   "execution_count": null,
   "metadata": {},
   "outputs": [],
   "source": []
  }
 ],
 "metadata": {
  "kernelspec": {
   "display_name": "SageMath 9.0",
   "language": "sage",
   "name": "sagemath"
  },
  "language_info": {
   "codemirror_mode": {
    "name": "ipython",
    "version": 3
   },
   "file_extension": ".py",
   "mimetype": "text/x-python",
   "name": "python",
   "nbconvert_exporter": "python",
   "pygments_lexer": "ipython3",
   "version": "3.7.3"
  }
 },
 "nbformat": 4,
 "nbformat_minor": 2
}
