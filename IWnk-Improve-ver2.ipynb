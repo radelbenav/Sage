{
 "cells": [
  {
   "cell_type": "code",
   "execution_count": 3,
   "metadata": {
    "scrolled": true
   },
   "outputs": [],
   "source": [
    "load('/mnt/c/Users/assaf/Dropbox/AGYGDS/Radi/Sage/IW735.sage')"
   ]
  },
  {
   "cell_type": "code",
   "execution_count": 4,
   "metadata": {},
   "outputs": [
    {
     "name": "stdout",
     "output_type": "stream",
     "text": [
      "True\n",
      "[[-1, -1, -1, -1, -1], [-1, 1, -1, -1, -1], [-1, -1, 1, -1, -1], [-1, 1, 1, -1, -1], [-1, -1, -1, 1, -1], [-1, 1, -1, 1, -1], [-1, -1, 1, 1, -1], [-1, 1, 1, 1, -1], [-1, -1, -1, -1, 1], [-1, 1, -1, -1, 1], [-1, -1, 1, -1, 1], [-1, 1, 1, -1, 1], [-1, -1, -1, 1, 1], [-1, 1, -1, 1, 1], [-1, -1, 1, 1, 1], [-1, 1, 1, 1, 1]] 16\n",
      "[[-5, 0, 0, 0, 0, 0, 0], [-4, -3, 0, 0, 0, 0, 0], [-4, -2, -2, -1, 0, 0, 0], [-4, -2, -1, -1, -1, -1, -1], [-3, -3, -2, -1, -1, -1, 0], [-3, -2, -2, -2, -2, 0, 0], [-2, -2, -2, -2, -2, -2, -1]] 0\n",
      "Nsoks:  [[-5, 0, 0, 0, 0, 0, 0], [-4, -3, 0, 0, 0, 0, 0], [-4, -2, -2, -1, 0, 0, 0], [-4, -2, -1, -1, -1, -1, -1], [-3, -3, -2, -1, -1, -1, 0], [-3, -2, -2, -2, -2, 0, 0], [-2, -2, -2, -2, -2, -2, -1]]\n",
      "[[[-5  0  0  0  0  0  0], [0, 0, 0]], [[-4 -3  0  0  0  0  0], [1, 0, 0]], [[-4 -2 -2 -1  0  0  0], [2, 0, 0]], [[-4 -2 -1 -1 -1 -1 -1], [3, 0, 0]], [[-3 -3 -2 -1 -1 -1  0], [4, 0, 0]], [[-3 -2 -2 -2 -2  0  0], [5, 0, 0]], [[-2 -2 -2 -2 -2 -2 -1], [6, 0, 0]]]\n",
      "countScan,countSol  =  1 0\n"
     ]
    },
    {
     "ename": "TypeError",
     "evalue": "orderMat() missing 1 required positional argument: 'base'",
     "output_type": "error",
     "traceback": [
      "\u001b[0;31m---------------------------------------------------------------------------\u001b[0m",
      "\u001b[0;31mTypeError\u001b[0m                                 Traceback (most recent call last)",
      "\u001b[0;32m/tmp/ipykernel_182/284496914.py\u001b[0m in \u001b[0;36m<module>\u001b[0;34m\u001b[0m\n\u001b[1;32m      4\u001b[0m \u001b[0mprint\u001b[0m\u001b[0;34m(\u001b[0m\u001b[0mHadamardSpace\u001b[0m\u001b[0;34m(\u001b[0m\u001b[0mInteger\u001b[0m\u001b[0;34m(\u001b[0m\u001b[0;36m5\u001b[0m\u001b[0;34m)\u001b[0m\u001b[0;34m)\u001b[0m\u001b[0;34m,\u001b[0m\u001b[0mlen\u001b[0m\u001b[0;34m(\u001b[0m\u001b[0mHadamardSpace\u001b[0m\u001b[0;34m(\u001b[0m\u001b[0mInteger\u001b[0m\u001b[0;34m(\u001b[0m\u001b[0;36m5\u001b[0m\u001b[0;34m)\u001b[0m\u001b[0;34m)\u001b[0m\u001b[0;34m)\u001b[0m\u001b[0;34m)\u001b[0m\u001b[0;34m\u001b[0m\u001b[0;34m\u001b[0m\u001b[0m\n\u001b[1;32m      5\u001b[0m \u001b[0mprint\u001b[0m\u001b[0;34m(\u001b[0m\u001b[0mB\u001b[0m\u001b[0;34m,\u001b[0m\u001b[0msign\u001b[0m\u001b[0;34m(\u001b[0m\u001b[0mInteger\u001b[0m\u001b[0;34m(\u001b[0m\u001b[0;36m0\u001b[0m\u001b[0;34m)\u001b[0m\u001b[0;34m)\u001b[0m\u001b[0;34m)\u001b[0m\u001b[0;34m\u001b[0m\u001b[0;34m\u001b[0m\u001b[0m\n\u001b[0;32m----> 6\u001b[0;31m \u001b[0mOurMain3\u001b[0m\u001b[0;34m(\u001b[0m\u001b[0mInteger\u001b[0m\u001b[0;34m(\u001b[0m\u001b[0;36m25\u001b[0m\u001b[0;34m)\u001b[0m\u001b[0;34m,\u001b[0m\u001b[0mInteger\u001b[0m\u001b[0;34m(\u001b[0m\u001b[0;36m7\u001b[0m\u001b[0;34m)\u001b[0m\u001b[0;34m,\u001b[0m\u001b[0mInteger\u001b[0m\u001b[0;34m(\u001b[0m\u001b[0;36m2\u001b[0m\u001b[0;34m)\u001b[0m\u001b[0;34m)\u001b[0m\u001b[0;34m\u001b[0m\u001b[0;34m\u001b[0m\u001b[0m\n\u001b[0m",
      "\u001b[0;32m<string>\u001b[0m in \u001b[0;36mOurMain3\u001b[0;34m(WMWeight, WMOrderDiv, lines)\u001b[0m\n",
      "\u001b[0;32m<string>\u001b[0m in \u001b[0;36mOrthogonalSignedPermutationsWithFirstNonZeroPositiveAgainstMatrix\u001b[0;34m(AboveMat, L, Lindex, MaxV)\u001b[0m\n",
      "\u001b[0;31mTypeError\u001b[0m: orderMat() missing 1 required positional argument: 'base'"
     ]
    }
   ],
   "source": [
    "A=sors(25,7,5)\n",
    "B=[list(map(lambda x:-x , A[len(A)-i-1])) for i in range(len(A)) ]\n",
    "print(LEcodeVector(B[2],B[2]))\n",
    "print(HadamardSpace(5),len(HadamardSpace(5)))\n",
    "print(B,sign(0))\n",
    "OurMain3(25,7,2)"
   ]
  },
  {
   "cell_type": "code",
   "execution_count": 38,
   "metadata": {},
   "outputs": [
    {
     "name": "stdout",
     "output_type": "stream",
     "text": [
      "[[-1, -1, -1], [-1, 1, -1], [-1, -1, 1], [-1, 1, 1]]\n"
     ]
    },
    {
     "data": {
      "text/plain": [
       "[\n",
       "[-1  0  0]  [ 0  0 -1]  [ 0 -1  0]  [-1  0  0]  [ 0  0 -1]  [ 0 -1  0]\n",
       "[ 0 -1  0]  [-1  0  0]  [ 0  0 -1]  [ 0  0 -1]  [ 0 -1  0]  [-1  0  0]\n",
       "[ 0  0 -1], [ 0 -1  0], [-1  0  0], [ 0 -1  0], [-1  0  0], [ 0  0 -1],\n",
       "\n",
       "[-1  0  0]  [ 0  0 -1]  [ 0 -1  0]  [-1  0  0]  [ 0  0 -1]  [ 0 -1  0]\n",
       "[ 0  1  0]  [ 1  0  0]  [ 0  0  1]  [ 0  0  1]  [ 0  1  0]  [ 1  0  0]\n",
       "[ 0  0 -1], [ 0 -1  0], [-1  0  0], [ 0 -1  0], [-1  0  0], [ 0  0 -1],\n",
       "\n",
       "[-1  0  0]  [ 0  0 -1]  [ 0 -1  0]  [-1  0  0]  [ 0  0 -1]  [ 0 -1  0]\n",
       "[ 0 -1  0]  [-1  0  0]  [ 0  0 -1]  [ 0  0 -1]  [ 0 -1  0]  [-1  0  0]\n",
       "[ 0  0  1], [ 0  1  0], [ 1  0  0], [ 0  1  0], [ 1  0  0], [ 0  0  1],\n",
       "\n",
       "[-1  0  0]  [ 0  0 -1]  [ 0 -1  0]  [-1  0  0]  [ 0  0 -1]  [ 0 -1  0]\n",
       "[ 0  1  0]  [ 1  0  0]  [ 0  0  1]  [ 0  0  1]  [ 0  1  0]  [ 1  0  0]\n",
       "[ 0  0  1], [ 0  1  0], [ 1  0  0], [ 0  1  0], [ 1  0  0], [ 0  0  1]\n",
       "]"
      ]
     },
     "execution_count": 38,
     "metadata": {},
     "output_type": "execute_result"
    }
   ],
   "source": [
    "print(HadamardSpace(3))\n",
    "[ diagonal_matrix(v)*p.matrix() for v in HadamardSpace(3) for p in SymmetricGroup(3)]"
   ]
  },
  {
   "cell_type": "code",
   "execution_count": 25,
   "metadata": {},
   "outputs": [
    {
     "name": "stdout",
     "output_type": "stream",
     "text": [
      "[-4  3  1  2  9 -1  2 -1]\n",
      "[-3  1 -4 -1 -1  0  0 -7]\n",
      "[ 2 38 -1  3 -1  0  2 -1]\n",
      "[-2  1  1 -3  1  1  0  4] 38.39175522211062\n",
      "[-4 -1 -1  1  2  2  3  9]\n",
      "[-3 -7  0 -4 -1  0  1 -1]\n",
      "[ 2 -1  0 -1  3  2 38 -1]\n",
      "[-2  4  1  1 -3  0  1  1]\n"
     ]
    }
   ],
   "source": [
    "m=random_matrix(ZZ,4,8)\n",
    "normM = m.norm()\n",
    "print(m,normM)\n",
    "print(orderMat(m,2*normM+1))\n"
   ]
  },
  {
   "cell_type": "code",
   "execution_count": null,
   "metadata": {},
   "outputs": [],
   "source": []
  }
 ],
 "metadata": {
  "kernelspec": {
   "display_name": "SageMath 9.5",
   "language": "sage",
   "name": "sagemath"
  },
  "language_info": {
   "codemirror_mode": {
    "name": "ipython",
    "version": 3
   },
   "file_extension": ".py",
   "mimetype": "text/x-python",
   "name": "python",
   "nbconvert_exporter": "python",
   "pygments_lexer": "ipython3",
   "version": "3.10.4"
  }
 },
 "nbformat": 4,
 "nbformat_minor": 4
}
